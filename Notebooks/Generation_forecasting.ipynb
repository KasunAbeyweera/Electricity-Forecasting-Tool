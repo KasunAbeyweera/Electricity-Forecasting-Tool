{
  "nbformat": 4,
  "nbformat_minor": 0,
  "metadata": {
    "colab": {
      "provenance": []
    },
    "kernelspec": {
      "name": "python3",
      "display_name": "Python 3"
    },
    "language_info": {
      "name": "python"
    },
    "accelerator": "GPU",
    "gpuClass": "standard"
  },
  "cells": [
    {
      "cell_type": "markdown",
      "source": [
        "# Import Libraries"
      ],
      "metadata": {
        "id": "NTNi5CN_pEa9"
      }
    },
    {
      "cell_type": "code",
      "execution_count": 2,
      "metadata": {
        "id": "oOvjA9MFmXAi"
      },
      "outputs": [],
      "source": [
        "import os\n",
        "import time\n",
        "import matplotlib.pyplot as plt\n",
        "import pandas as pd\n",
        "import numpy as np\n",
        "from sklearn.preprocessing import OneHotEncoder\n",
        "from sklearn.preprocessing import MinMaxScaler\n",
        "from sklearn.preprocessing import LabelEncoder\n",
        "from sklearn.model_selection import train_test_split\n",
        "import seaborn as sns\n",
        "import torch\n",
        "import torch.nn as nn\n",
        "from torch.utils.data import TensorDataset, DataLoader\n",
        "from tqdm.notebook import tqdm as tqdm_notebook\n",
        "import json\n",
        "\n",
        "# import onnx \n",
        "# import onnxruntime as ort\n"
      ]
    },
    {
      "cell_type": "markdown",
      "source": [
        "# Upload Dataset"
      ],
      "metadata": {
        "id": "iZnyR1kLpHsN"
      }
    },
    {
      "cell_type": "code",
      "source": [
        "cols = [\"Holiday\",\"Date\",\"Generation\",\"Consumption\"]\n",
        "df = pd.read_csv(\"/content/Generation_dataset_combined.csv\", header=0, names=cols)\n",
        "file = \"/content/Generation_dataset_combined.csv\""
      ],
      "metadata": {
        "id": "5tVyysZOn5_H"
      },
      "execution_count": 3,
      "outputs": []
    },
    {
      "cell_type": "code",
      "source": [
        "print(df.head())"
      ],
      "metadata": {
        "colab": {
          "base_uri": "https://localhost:8080/"
        },
        "id": "d19PqBkvpBGt",
        "outputId": "db847f82-a5eb-4f91-a217-2756e4d411f1"
      },
      "execution_count": 4,
      "outputs": [
        {
          "output_type": "stream",
          "name": "stdout",
          "text": [
            "   Holiday                       Date  Generation  Consumption\n",
            "0        0  2018-07-01 05:00:00+00:00      182340       509702\n",
            "1        0  2018-07-01 06:00:00+00:00      285585       412574\n",
            "2        0  2018-07-01 07:00:00+00:00      281322       390539\n",
            "3        0  2018-07-01 08:00:00+00:00      324231       366425\n",
            "4        0  2018-07-01 09:00:00+00:00      314379       354843\n"
          ]
        }
      ]
    },
    {
      "cell_type": "code",
      "source": [
        "print(df.shape) #Check the shape of the dataset"
      ],
      "metadata": {
        "colab": {
          "base_uri": "https://localhost:8080/"
        },
        "id": "f1r2XTwLpbzV",
        "outputId": "d04849f5-786b-4c3e-87ca-5b03dfd74a38"
      },
      "execution_count": 5,
      "outputs": [
        {
          "output_type": "stream",
          "name": "stdout",
          "text": [
            "(27019, 4)\n"
          ]
        }
      ]
    },
    {
      "cell_type": "code",
      "source": [
        "# Check for outliers in 'pressure' column\n",
        "\n",
        "sns.boxplot(x=df['Generation'])\n",
        "plt.show()"
      ],
      "metadata": {
        "id": "Ly3kmXI1BMEp",
        "outputId": "705726af-fb62-4aa9-e52e-1a9df7e1ef4f",
        "colab": {
          "base_uri": "https://localhost:8080/",
          "height": 279
        }
      },
      "execution_count": 6,
      "outputs": [
        {
          "output_type": "display_data",
          "data": {
            "text/plain": [
              "<Figure size 432x288 with 1 Axes>"
            ],
            "image/png": "[encoded data removed]"
          },
          "metadata": {
            "needs_background": "light"
          }
        }
      ]
    },
    {
      "cell_type": "code",
      "source": [
        "# Plot a histogram of the Generation column\n",
        "\n",
        "fig = plt.figure(figsize=(12, 8))\n",
        "plt.hist(df[\"Generation\"], color='green')\n",
        "plt.xlabel(\"Units\")\n",
        "plt.ylabel(\"Frequency\")\n",
        "plt.title(\"Distribution of Generation Units\")\n",
        "plt.show()"
      ],
      "metadata": {
        "colab": {
          "base_uri": "https://localhost:8080/",
          "height": 513
        },
        "id": "sjfQamP4qevs",
        "outputId": "fb0e77fa-2627-4536-ab79-41fcdf3905d4"
      },
      "execution_count": 7,
      "outputs": [
        {
          "output_type": "display_data",
          "data": {
            "text/plain": [
              "<Figure size 864x576 with 1 Axes>"
            ],
            "image/png": "[encoded data removed]"
          },
          "metadata": {
            "needs_background": "light"
          }
        }
      ]
    },
    {
      "cell_type": "code",
      "source": [
        "# create a new column 'date' and fill it with the dates from 'datetime' column\n",
        "df['time'] = pd.to_datetime(df['Date']).dt.time\n",
        "df['hour'] = [t.hour for t in df['time']]\n",
        "df['business hour'] = 0  # Initialize new column with 0s\n",
        "for i in range(len(df)):\n",
        "    hour = df.loc[i, 'hour']\n",
        "    if ((hour >= 8 and hour < 14) or (hour >= 16 and hour < 21)):\n",
        "        df.loc[i, 'business hour'] = 1  # Set value to 1 for business hours\n",
        "df = df.drop(['hour','time'], axis=1)        "
      ],
      "metadata": {
        "id": "5ERD8z_3Xwdj"
      },
      "execution_count": 8,
      "outputs": []
    },
    {
      "cell_type": "code",
      "source": [
        "# create new columns for year, month, day, and hour\n",
        "\n",
        "df['Date'] = pd.to_datetime(df['Date'], utc=True, infer_datetime_format=True)\n",
        "df['year'] = df['Date'].dt.year\n",
        "df['month'] = df['Date'].dt.month\n",
        "df['day'] = df['Date'].dt.day\n",
        "df['hour'] = df['Date'].dt.hour\n",
        "df = df.drop('Date', axis=1)"
      ],
      "metadata": {
        "id": "jkTR4RMvqz_b"
      },
      "execution_count": 9,
      "outputs": []
    },
    {
      "cell_type": "code",
      "source": [
        "df.dtypes"
      ],
      "metadata": {
        "id": "W954dAimZan7",
        "outputId": "cdcad05f-29bd-4a95-e6eb-3e95d5cb1928",
        "colab": {
          "base_uri": "https://localhost:8080/"
        }
      },
      "execution_count": 10,
      "outputs": [
        {
          "output_type": "execute_result",
          "data": {
            "text/plain": [
              "Holiday          int64\n",
              "Generation       int64\n",
              "Consumption      int64\n",
              "business hour    int64\n",
              "year             int64\n",
              "month            int64\n",
              "day              int64\n",
              "hour             int64\n",
              "dtype: object"
            ]
          },
          "metadata": {},
          "execution_count": 10
        }
      ]
    },
    {
      "cell_type": "code",
      "source": [
        "df.head()"
      ],
      "metadata": {
        "id": "Bot1mxGAOPhG",
        "outputId": "c7e641e7-26e0-44c9-fe35-16eff564bf06",
        "colab": {
          "base_uri": "https://localhost:8080/",
          "height": 206
        }
      },
      "execution_count": 11,
      "outputs": [
        {
          "output_type": "execute_result",
          "data": {
            "text/plain": [
              "   Holiday  Generation  Consumption  business hour  year  month  day  hour\n",
              "0        0      182340       509702              0  2018      7    1     5\n",
              "1        0      285585       412574              0  2018      7    1     6\n",
              "2        0      281322       390539              0  2018      7    1     7\n",
              "3        0      324231       366425              1  2018      7    1     8\n",
              "4        0      314379       354843              1  2018      7    1     9"
            ],
            "text/html": [
              "\n",
              "  <div id=\"df-b9ad35ad-3f44-47e1-9769-0088f7f70ea6\">\n",
              "    <div class=\"colab-df-container\">\n",
              "      <div>\n",
              "<style scoped>\n",
              "    .dataframe tbody tr th:only-of-type {\n",
              "        vertical-align: middle;\n",
              "    }\n",
              "\n",
              "    .dataframe tbody tr th {\n",
              "        vertical-align: top;\n",
              "    }\n",
              "\n",
              "    .dataframe thead th {\n",
              "        text-align: right;\n",
              "    }\n",
              "</style>\n",
              "<table border=\"1\" class=\"dataframe\">\n",
              "  <thead>\n",
              "    <tr style=\"text-align: right;\">\n",
              "      <th></th>\n",
              "      <th>Holiday</th>\n",
              "      <th>Generation</th>\n",
              "      <th>Consumption</th>\n",
              "      <th>business hour</th>\n",
              "      <th>year</th>\n",
              "      <th>month</th>\n",
              "      <th>day</th>\n",
              "      <th>hour</th>\n",
              "    </tr>\n",
              "  </thead>\n",
              "  <tbody>\n",
              "    <tr>\n",
              "      <th>0</th>\n",
              "      <td>0</td>\n",
              "      <td>182340</td>\n",
              "      <td>509702</td>\n",
              "      <td>0</td>\n",
              "      <td>2018</td>\n",
              "      <td>7</td>\n",
              "      <td>1</td>\n",
              "      <td>5</td>\n",
              "    </tr>\n",
              "    <tr>\n",
              "      <th>1</th>\n",
              "      <td>0</td>\n",
              "      <td>285585</td>\n",
              "      <td>412574</td>\n",
              "      <td>0</td>\n",
              "      <td>2018</td>\n",
              "      <td>7</td>\n",
              "      <td>1</td>\n",
              "      <td>6</td>\n",
              "    </tr>\n",
              "    <tr>\n",
              "      <th>2</th>\n",
              "      <td>0</td>\n",
              "      <td>281322</td>\n",
              "      <td>390539</td>\n",
              "      <td>0</td>\n",
              "      <td>2018</td>\n",
              "      <td>7</td>\n",
              "      <td>1</td>\n",
              "      <td>7</td>\n",
              "    </tr>\n",
              "    <tr>\n",
              "      <th>3</th>\n",
              "      <td>0</td>\n",
              "      <td>324231</td>\n",
              "      <td>366425</td>\n",
              "      <td>1</td>\n",
              "      <td>2018</td>\n",
              "      <td>7</td>\n",
              "      <td>1</td>\n",
              "      <td>8</td>\n",
              "    </tr>\n",
              "    <tr>\n",
              "      <th>4</th>\n",
              "      <td>0</td>\n",
              "      <td>314379</td>\n",
              "      <td>354843</td>\n",
              "      <td>1</td>\n",
              "      <td>2018</td>\n",
              "      <td>7</td>\n",
              "      <td>1</td>\n",
              "      <td>9</td>\n",
              "    </tr>\n",
              "  </tbody>\n",
              "</table>\n",
              "</div>\n",
              "      <button class=\"colab-df-convert\" onclick=\"convertToInteractive('df-b9ad35ad-3f44-47e1-9769-0088f7f70ea6')\"\n",
              "              title=\"Convert this dataframe to an interactive table.\"\n",
              "              style=\"display:none;\">\n",
              "        \n",
              "  <svg xmlns=\"http://www.w3.org/2000/svg\" height=\"24px\"viewBox=\"0 0 24 24\"\n",
              "       width=\"24px\">\n",
              "    <path d=\"M0 0h24v24H0V0z\" fill=\"none\"/>\n",
              "    <path d=\"M18.56 5.44l.94 2.06.94-2.06 2.06-.94-2.06-.94-.94-2.06-.94 2.06-2.06.94zm-11 1L8.5 8.5l.94-2.06 2.06-.94-2.06-.94L8.5 2.5l-.94 2.06-2.06.94zm10 10l.94 2.06.94-2.06 2.06-.94-2.06-.94-.94-2.06-.94 2.06-2.06.94z\"/><path d=\"M17.41 7.96l-1.37-1.37c-.4-.4-.92-.59-1.43-.59-.52 0-1.04.2-1.43.59L10.3 9.45l-7.72 7.72c-.78.78-.78 2.05 0 2.83L4 21.41c.39.39.9.59 1.41.59.51 0 1.02-.2 1.41-.59l7.78-7.78 2.81-2.81c.8-.78.8-2.07 0-2.86zM5.41 20L4 18.59l7.72-7.72 1.47 1.35L5.41 20z\"/>\n",
              "  </svg>\n",
              "      </button>\n",
              "      \n",
              "  <style>\n",
              "    .colab-df-container {\n",
              "      display:flex;\n",
              "      flex-wrap:wrap;\n",
              "      gap: 12px;\n",
              "    }\n",
              "\n",
              "    .colab-df-convert {\n",
              "      background-color: #E8F0FE;\n",
              "      border: none;\n",
              "      border-radius: 50%;\n",
              "      cursor: pointer;\n",
              "      display: none;\n",
              "      fill: #1967D2;\n",
              "      height: 32px;\n",
              "      padding: 0 0 0 0;\n",
              "      width: 32px;\n",
              "    }\n",
              "\n",
              "    .colab-df-convert:hover {\n",
              "      background-color: #E2EBFA;\n",
              "      box-shadow: 0px 1px 2px rgba(60, 64, 67, 0.3), 0px 1px 3px 1px rgba(60, 64, 67, 0.15);\n",
              "      fill: #174EA6;\n",
              "    }\n",
              "\n",
              "    [theme=dark] .colab-df-convert {\n",
              "      background-color: #3B4455;\n",
              "      fill: #D2E3FC;\n",
              "    }\n",
              "\n",
              "    [theme=dark] .colab-df-convert:hover {\n",
              "      background-color: #434B5C;\n",
              "      box-shadow: 0px 1px 3px 1px rgba(0, 0, 0, 0.15);\n",
              "      filter: drop-shadow(0px 1px 2px rgba(0, 0, 0, 0.3));\n",
              "      fill: #FFFFFF;\n",
              "    }\n",
              "  </style>\n",
              "\n",
              "      <script>\n",
              "        const buttonEl =\n",
              "          document.querySelector('#df-b9ad35ad-3f44-47e1-9769-0088f7f70ea6 button.colab-df-convert');\n",
              "        buttonEl.style.display =\n",
              "          google.colab.kernel.accessAllowed ? 'block' : 'none';\n",
              "\n",
              "        async function convertToInteractive(key) {\n",
              "          const element = document.querySelector('#df-b9ad35ad-3f44-47e1-9769-0088f7f70ea6');\n",
              "          const dataTable =\n",
              "            await google.colab.kernel.invokeFunction('convertToInteractive',\n",
              "                                                     [key], {});\n",
              "          if (!dataTable) return;\n",
              "\n",
              "          const docLinkHtml = 'Like what you see? Visit the ' +\n",
              "            '<a target=\"_blank\" href=https://colab.research.google.com/notebooks/data_table.ipynb>data table notebook</a>'\n",
              "            + ' to learn more about interactive tables.';\n",
              "          element.innerHTML = '';\n",
              "          dataTable['output_type'] = 'display_data';\n",
              "          await google.colab.output.renderOutput(dataTable, element);\n",
              "          const docLink = document.createElement('div');\n",
              "          docLink.innerHTML = docLinkHtml;\n",
              "          element.appendChild(docLink);\n",
              "        }\n",
              "      </script>\n",
              "    </div>\n",
              "  </div>\n",
              "  "
            ]
          },
          "metadata": {},
          "execution_count": 11
        }
      ]
    },
    {
      "cell_type": "code",
      "source": [
        "# Find the correlations between the electricity price and the rest of the features\n",
        "\n",
        "correlations = df.corr(method='pearson')\n",
        "print(correlations['Generation'].sort_values(ascending=False).to_string())"
      ],
      "metadata": {
        "id": "po4XtNCQEWmX",
        "outputId": "dbc0da04-69b2-45bd-e8fe-70be30b27cb9",
        "colab": {
          "base_uri": "https://localhost:8080/"
        }
      },
      "execution_count": 12,
      "outputs": [
        {
          "output_type": "stream",
          "name": "stdout",
          "text": [
            "Generation       1.000000\n",
            "Consumption      0.906539\n",
            "hour             0.193926\n",
            "year             0.085825\n",
            "month            0.040776\n",
            "day              0.001501\n",
            "Holiday         -0.034477\n",
            "business hour   -0.185346\n"
          ]
        }
      ]
    },
    {
      "cell_type": "code",
      "source": [
        "print(df.describe())"
      ],
      "metadata": {
        "colab": {
          "base_uri": "https://localhost:8080/"
        },
        "id": "WTqTq_jCrNRL",
        "outputId": "78b30c8d-a60d-4415-f968-1c1bd9d85fa6"
      },
      "execution_count": 13,
      "outputs": [
        {
          "output_type": "stream",
          "name": "stdout",
          "text": [
            "            Holiday     Generation    Consumption  business hour  \\\n",
            "count  27019.000000   27019.000000   27019.000000   27019.000000   \n",
            "mean       0.051519  439651.924683  455204.401051       0.458418   \n",
            "std        0.221059   72889.239516   75979.258484       0.498277   \n",
            "min        0.000000  182340.000000  304812.000000       0.000000   \n",
            "25%        0.000000  391401.500000  403703.000000       0.000000   \n",
            "50%        0.000000  429362.000000  441196.000000       0.000000   \n",
            "75%        0.000000  473154.500000  490910.000000       1.000000   \n",
            "max        1.000000  704183.000000  710116.000000       1.000000   \n",
            "\n",
            "               year         month           day          hour  \n",
            "count  27019.000000  27019.000000  27019.000000  27019.000000  \n",
            "mean    2019.536696      6.534550     15.729191     11.501758  \n",
            "std        0.974703      3.403973      8.796289      6.921722  \n",
            "min     2018.000000      1.000000      1.000000      0.000000  \n",
            "25%     2019.000000      4.000000      8.000000      6.000000  \n",
            "50%     2020.000000      7.000000     16.000000     12.000000  \n",
            "75%     2020.000000      9.000000     23.000000     18.000000  \n",
            "max     2021.000000     12.000000     31.000000     23.000000  \n"
          ]
        }
      ]
    },
    {
      "cell_type": "code",
      "source": [
        "# Find NaNs and duplicates in df_energy\n",
        "\n",
        "print('There are {} missing values or NaNs in combined_data.'\n",
        "      .format(df.isnull().values.sum()))\n",
        "\n",
        "temp_energy = df.duplicated(keep='first').sum()\n",
        "\n",
        "print('There are {} duplicate rows in combined_data based on all columns.'\n",
        "      .format(temp_energy))"
      ],
      "metadata": {
        "id": "Cteh6Lc4IB9J",
        "outputId": "89ed2dc7-cddd-4bc0-a0d3-8b764fa18fba",
        "colab": {
          "base_uri": "https://localhost:8080/"
        }
      },
      "execution_count": 14,
      "outputs": [
        {
          "output_type": "stream",
          "name": "stdout",
          "text": [
            "There are 0 missing values or NaNs in combined_data.\n",
            "There are 0 duplicate rows in combined_data based on all columns.\n"
          ]
        }
      ]
    },
    {
      "cell_type": "code",
      "source": [
        "# Find the number of NaNs in each column\n",
        "\n",
        "df.isnull().sum(axis=0)"
      ],
      "metadata": {
        "id": "hSBuunnHINyh",
        "outputId": "280328bf-de13-48a1-eb6c-d486beedd758",
        "colab": {
          "base_uri": "https://localhost:8080/"
        }
      },
      "execution_count": 15,
      "outputs": [
        {
          "output_type": "execute_result",
          "data": {
            "text/plain": [
              "Holiday          0\n",
              "Generation       0\n",
              "Consumption      0\n",
              "business hour    0\n",
              "year             0\n",
              "month            0\n",
              "day              0\n",
              "hour             0\n",
              "dtype: int64"
            ]
          },
          "metadata": {},
          "execution_count": 15
        }
      ]
    },
    {
      "cell_type": "code",
      "source": [
        "# Lag plot for Generation units\n",
        "Total = df['Generation']\n",
        "fig = plt.figure(figsize=(12, 8))\n",
        "pd.plotting.lag_plot(Total, lag=1, c = 'red')\n",
        "plt.title('Lag plot for  Generation units')\n",
        "plt.xlabel('Units at time t-1')\n",
        "plt.ylabel('Units at time t')\n",
        "plt.show()"
      ],
      "metadata": {
        "colab": {
          "base_uri": "https://localhost:8080/",
          "height": 513
        },
        "id": "0kkJrLH-rYDz",
        "outputId": "b62d527a-b048-4550-fdf5-7f550ed6cfef"
      },
      "execution_count": 16,
      "outputs": [
        {
          "output_type": "display_data",
          "data": {
            "text/plain": [
              "<Figure size 864x576 with 1 Axes>"
            ],
            "image/png": "[encoded data removed]"
          },
          "metadata": {
            "needs_background": "light"
          }
        }
      ]
    },
    {
      "cell_type": "code",
      "source": [
        "# Time series plot\n",
        "Total = df['Generation']\n",
        "fig = plt.figure(figsize=(12, 8))\n",
        "plt.plot(Total)\n",
        "plt.title('Time series plot for Generation')\n",
        "plt.xlabel('Time')\n",
        "plt.ylabel('Total')\n",
        "plt.show()"
      ],
      "metadata": {
        "colab": {
          "base_uri": "https://localhost:8080/",
          "height": 513
        },
        "id": "OPS1KN6frqds",
        "outputId": "8117559b-3c6c-4c6a-8a3b-beda18e707ed"
      },
      "execution_count": 17,
      "outputs": [
        {
          "output_type": "display_data",
          "data": {
            "text/plain": [
              "<Figure size 864x576 with 1 Axes>"
            ],
            "image/png": "[encoded data removed]"
          },
          "metadata": {
            "needs_background": "light"
          }
        }
      ]
    },
    {
      "cell_type": "code",
      "source": [
        "# Scaling the input data\n",
        "sc = MinMaxScaler()\n",
        "label_sc = MinMaxScaler()\n",
        "data = sc.fit_transform(df.values)"
      ],
      "metadata": {
        "id": "aWpUdJ24r_HS"
      },
      "execution_count": 18,
      "outputs": []
    },
    {
      "cell_type": "code",
      "source": [
        "df.head()"
      ],
      "metadata": {
        "id": "OptiylAZnG4F",
        "outputId": "922ef558-09fd-4291-f367-ebd6781c777e",
        "colab": {
          "base_uri": "https://localhost:8080/",
          "height": 206
        }
      },
      "execution_count": null,
      "outputs": [
        {
          "output_type": "execute_result",
          "data": {
            "text/plain": [
              "   Holiday  Generation  Consumption  business hour  year  month  day  hour\n",
              "0        0      182340       509702              0  2018      7    1     5\n",
              "1        0      285585       412574              0  2018      7    1     6\n",
              "2        0      281322       390539              0  2018      7    1     7\n",
              "3        0      324231       366425              1  2018      7    1     8\n",
              "4        0      314379       354843              1  2018      7    1     9"
            ],
            "text/html": [
              "\n",
              "  <div id=\"df-f0f3798d-ab3c-40aa-9a3f-b45a0c621df7\">\n",
              "    <div class=\"colab-df-container\">\n",
              "      <div>\n",
              "<style scoped>\n",
              "    .dataframe tbody tr th:only-of-type {\n",
              "        vertical-align: middle;\n",
              "    }\n",
              "\n",
              "    .dataframe tbody tr th {\n",
              "        vertical-align: top;\n",
              "    }\n",
              "\n",
              "    .dataframe thead th {\n",
              "        text-align: right;\n",
              "    }\n",
              "</style>\n",
              "<table border=\"1\" class=\"dataframe\">\n",
              "  <thead>\n",
              "    <tr style=\"text-align: right;\">\n",
              "      <th></th>\n",
              "      <th>Holiday</th>\n",
              "      <th>Generation</th>\n",
              "      <th>Consumption</th>\n",
              "      <th>business hour</th>\n",
              "      <th>year</th>\n",
              "      <th>month</th>\n",
              "      <th>day</th>\n",
              "      <th>hour</th>\n",
              "    </tr>\n",
              "  </thead>\n",
              "  <tbody>\n",
              "    <tr>\n",
              "      <th>0</th>\n",
              "      <td>0</td>\n",
              "      <td>182340</td>\n",
              "      <td>509702</td>\n",
              "      <td>0</td>\n",
              "      <td>2018</td>\n",
              "      <td>7</td>\n",
              "      <td>1</td>\n",
              "      <td>5</td>\n",
              "    </tr>\n",
              "    <tr>\n",
              "      <th>1</th>\n",
              "      <td>0</td>\n",
              "      <td>285585</td>\n",
              "      <td>412574</td>\n",
              "      <td>0</td>\n",
              "      <td>2018</td>\n",
              "      <td>7</td>\n",
              "      <td>1</td>\n",
              "      <td>6</td>\n",
              "    </tr>\n",
              "    <tr>\n",
              "      <th>2</th>\n",
              "      <td>0</td>\n",
              "      <td>281322</td>\n",
              "      <td>390539</td>\n",
              "      <td>0</td>\n",
              "      <td>2018</td>\n",
              "      <td>7</td>\n",
              "      <td>1</td>\n",
              "      <td>7</td>\n",
              "    </tr>\n",
              "    <tr>\n",
              "      <th>3</th>\n",
              "      <td>0</td>\n",
              "      <td>324231</td>\n",
              "      <td>366425</td>\n",
              "      <td>1</td>\n",
              "      <td>2018</td>\n",
              "      <td>7</td>\n",
              "      <td>1</td>\n",
              "      <td>8</td>\n",
              "    </tr>\n",
              "    <tr>\n",
              "      <th>4</th>\n",
              "      <td>0</td>\n",
              "      <td>314379</td>\n",
              "      <td>354843</td>\n",
              "      <td>1</td>\n",
              "      <td>2018</td>\n",
              "      <td>7</td>\n",
              "      <td>1</td>\n",
              "      <td>9</td>\n",
              "    </tr>\n",
              "  </tbody>\n",
              "</table>\n",
              "</div>\n",
              "      <button class=\"colab-df-convert\" onclick=\"convertToInteractive('df-f0f3798d-ab3c-40aa-9a3f-b45a0c621df7')\"\n",
              "              title=\"Convert this dataframe to an interactive table.\"\n",
              "              style=\"display:none;\">\n",
              "        \n",
              "  <svg xmlns=\"http://www.w3.org/2000/svg\" height=\"24px\"viewBox=\"0 0 24 24\"\n",
              "       width=\"24px\">\n",
              "    <path d=\"M0 0h24v24H0V0z\" fill=\"none\"/>\n",
              "    <path d=\"M18.56 5.44l.94 2.06.94-2.06 2.06-.94-2.06-.94-.94-2.06-.94 2.06-2.06.94zm-11 1L8.5 8.5l.94-2.06 2.06-.94-2.06-.94L8.5 2.5l-.94 2.06-2.06.94zm10 10l.94 2.06.94-2.06 2.06-.94-2.06-.94-.94-2.06-.94 2.06-2.06.94z\"/><path d=\"M17.41 7.96l-1.37-1.37c-.4-.4-.92-.59-1.43-.59-.52 0-1.04.2-1.43.59L10.3 9.45l-7.72 7.72c-.78.78-.78 2.05 0 2.83L4 21.41c.39.39.9.59 1.41.59.51 0 1.02-.2 1.41-.59l7.78-7.78 2.81-2.81c.8-.78.8-2.07 0-2.86zM5.41 20L4 18.59l7.72-7.72 1.47 1.35L5.41 20z\"/>\n",
              "  </svg>\n",
              "      </button>\n",
              "      \n",
              "  <style>\n",
              "    .colab-df-container {\n",
              "      display:flex;\n",
              "      flex-wrap:wrap;\n",
              "      gap: 12px;\n",
              "    }\n",
              "\n",
              "    .colab-df-convert {\n",
              "      background-color: #E8F0FE;\n",
              "      border: none;\n",
              "      border-radius: 50%;\n",
              "      cursor: pointer;\n",
              "      display: none;\n",
              "      fill: #1967D2;\n",
              "      height: 32px;\n",
              "      padding: 0 0 0 0;\n",
              "      width: 32px;\n",
              "    }\n",
              "\n",
              "    .colab-df-convert:hover {\n",
              "      background-color: #E2EBFA;\n",
              "      box-shadow: 0px 1px 2px rgba(60, 64, 67, 0.3), 0px 1px 3px 1px rgba(60, 64, 67, 0.15);\n",
              "      fill: #174EA6;\n",
              "    }\n",
              "\n",
              "    [theme=dark] .colab-df-convert {\n",
              "      background-color: #3B4455;\n",
              "      fill: #D2E3FC;\n",
              "    }\n",
              "\n",
              "    [theme=dark] .colab-df-convert:hover {\n",
              "      background-color: #434B5C;\n",
              "      box-shadow: 0px 1px 3px 1px rgba(0, 0, 0, 0.15);\n",
              "      filter: drop-shadow(0px 1px 2px rgba(0, 0, 0, 0.3));\n",
              "      fill: #FFFFFF;\n",
              "    }\n",
              "  </style>\n",
              "\n",
              "      <script>\n",
              "        const buttonEl =\n",
              "          document.querySelector('#df-f0f3798d-ab3c-40aa-9a3f-b45a0c621df7 button.colab-df-convert');\n",
              "        buttonEl.style.display =\n",
              "          google.colab.kernel.accessAllowed ? 'block' : 'none';\n",
              "\n",
              "        async function convertToInteractive(key) {\n",
              "          const element = document.querySelector('#df-f0f3798d-ab3c-40aa-9a3f-b45a0c621df7');\n",
              "          const dataTable =\n",
              "            await google.colab.kernel.invokeFunction('convertToInteractive',\n",
              "                                                     [key], {});\n",
              "          if (!dataTable) return;\n",
              "\n",
              "          const docLinkHtml = 'Like what you see? Visit the ' +\n",
              "            '<a target=\"_blank\" href=https://colab.research.google.com/notebooks/data_table.ipynb>data table notebook</a>'\n",
              "            + ' to learn more about interactive tables.';\n",
              "          element.innerHTML = '';\n",
              "          dataTable['output_type'] = 'display_data';\n",
              "          await google.colab.output.renderOutput(dataTable, element);\n",
              "          const docLink = document.createElement('div');\n",
              "          docLink.innerHTML = docLinkHtml;\n",
              "          element.appendChild(docLink);\n",
              "        }\n",
              "      </script>\n",
              "    </div>\n",
              "  </div>\n",
              "  "
            ]
          },
          "metadata": {},
          "execution_count": 115
        }
      ]
    },
    {
      "cell_type": "code",
      "source": [
        "def move_sliding_window(data, window_size, inputs_cols_indices, label_col_index):\n",
        " \n",
        "    inputs = np.zeros((len(data) - window_size, window_size, len(inputs_cols_indices)))\n",
        "    labels = np.zeros(len(data) - window_size)\n",
        "\n",
        "    for i in range(window_size, len(data)):\n",
        "        inputs[i - window_size] = data[i - window_size : i, inputs_cols_indices]\n",
        "        labels[i - window_size] = data[i, label_col_index]\n",
        "    inputs = inputs.reshape(-1, window_size, len(inputs_cols_indices))\n",
        "    labels = labels.reshape(-1, 1)\n",
        "    print(inputs.shape, labels.shape)\n",
        "\n",
        "    return inputs, labels"
      ],
      "metadata": {
        "id": "aVtstGxnsDqs"
      },
      "execution_count": 19,
      "outputs": []
    },
    {
      "cell_type": "code",
      "source": [
        "label_col_index = 1 # Generation as label to predict\n",
        "inputs_cols_indices =2,3,6,7  # use [\"Holiday\",\"Date\",\"Consumption\"] columns as features\n",
        "\n",
        "window_size = 24\n",
        "\n",
        "label_scalers = {}\n",
        "\n",
        "train_x = []\n",
        "test_x = {}\n",
        "test_y = {}"
      ],
      "metadata": {
        "id": "paQ05BpmsIsy"
      },
      "execution_count": 20,
      "outputs": []
    },
    {
      "cell_type": "code",
      "source": [
        "label_sc.fit(df.iloc[:, label_col_index].values.reshape(-1, 1))\n",
        "label_scalers[file] = label_sc"
      ],
      "metadata": {
        "id": "ivpOlBLBsiBC"
      },
      "execution_count": 21,
      "outputs": []
    },
    {
      "cell_type": "code",
      "source": [
        "inputs, labels = move_sliding_window(data,window_size,inputs_cols_indices=inputs_cols_indices,label_col_index=label_col_index, )\n",
        "\n",
        "test_portion = int(0.1 * len(inputs))\n",
        "if len(train_x) == 0:  # first iteration\n",
        "    train_x = inputs[:-test_portion]\n",
        "    train_y = labels[:-test_portion]\n",
        "else:\n",
        "    train_x = np.concatenate((train_x, inputs[:-test_portion]))\n",
        "    train_y = np.concatenate((train_y, labels[:-test_portion]))\n",
        "test_x[file] = inputs[-test_portion:]\n",
        "test_y[file] = labels[-test_portion:]"
      ],
      "metadata": {
        "colab": {
          "base_uri": "https://localhost:8080/"
        },
        "id": "EbXsy6qyskVS",
        "outputId": "e564aef9-5928-402f-a934-a1263b9ed874"
      },
      "execution_count": 22,
      "outputs": [
        {
          "output_type": "stream",
          "name": "stdout",
          "text": [
            "(26995, 24, 4) (26995, 1)\n"
          ]
        }
      ]
    },
    {
      "cell_type": "code",
      "source": [
        "batch_size =16\n",
        "# Split data into training and validation sets\n",
        "train_x, val_x, train_y, val_y = train_test_split(\n",
        "    train_x, train_y, test_size=0.2, random_state=42)\n",
        "\n",
        "# Create TensorDatasets and DataLoaders for training and validation sets\n",
        "train_data = TensorDataset(torch.from_numpy(train_x), torch.from_numpy(train_y))\n",
        "train_loader = DataLoader(train_data, shuffle=True, batch_size=batch_size, drop_last=True)\n",
        "\n",
        "val_data = TensorDataset(torch.from_numpy(val_x), torch.from_numpy(val_y))\n",
        "val_loader = DataLoader(val_data, shuffle=True, batch_size=batch_size, drop_last=True)"
      ],
      "metadata": {
        "id": "VuWHvLKGsuZB"
      },
      "execution_count": 23,
      "outputs": []
    },
    {
      "cell_type": "code",
      "source": [
        "print(f\"Train Size: {train_x.shape}, Batch Size: {batch_size}, # of iterations per epoch: {int(train_x.shape[0]/batch_size)}\")\n",
        "print(f\"Validation Size: {val_x.shape}, Batch Size: {batch_size}, # of iterations per epoch: {int(val_x.shape[0]/batch_size)}\")"
      ],
      "metadata": {
        "colab": {
          "base_uri": "https://localhost:8080/"
        },
        "id": "u1GEye5ws6T6",
        "outputId": "1f9b1a69-2664-40a4-9a9f-74a4e336fe2d"
      },
      "execution_count": 24,
      "outputs": [
        {
          "output_type": "stream",
          "name": "stdout",
          "text": [
            "Train Size: (19436, 24, 4), Batch Size: 16, # of iterations per epoch: 1214\n",
            "Validation Size: (4860, 24, 4), Batch Size: 16, # of iterations per epoch: 303\n"
          ]
        }
      ]
    },
    {
      "cell_type": "code",
      "source": [
        "# release some memory\n",
        "del train_x, train_y"
      ],
      "metadata": {
        "id": "T0VaLQEStANR"
      },
      "execution_count": 25,
      "outputs": []
    },
    {
      "cell_type": "code",
      "source": [
        "# torch.cuda.is_available() checks and returns a Boolean True if a GPU is available, else it'll return False\n",
        "is_cuda = torch.cuda.is_available()\n",
        "\n",
        "# If we have a GPU available, we'll set our device to GPU. We'll use this device variable later in our code.\n",
        "if is_cuda:\n",
        "    device = torch.device(\"cuda\")\n",
        "    print(\"GPU is available\")\n",
        "else:\n",
        "    device = torch.device(\"cpu\")"
      ],
      "metadata": {
        "colab": {
          "base_uri": "https://localhost:8080/"
        },
        "id": "JHnBqHZWtCKB",
        "outputId": "52d8e084-e9c9-4d2d-d066-b2941865ea54"
      },
      "execution_count": 26,
      "outputs": [
        {
          "output_type": "stream",
          "name": "stdout",
          "text": [
            "GPU is available\n"
          ]
        }
      ]
    },
    {
      "cell_type": "markdown",
      "source": [
        "# LSTM Model"
      ],
      "metadata": {
        "id": "pjhHJKh7ttfx"
      }
    },
    {
      "cell_type": "code",
      "source": [
        "class LSTMNet(nn.Module):\n",
        "    def __init__(self, input_dim, hidden_dim, output_dim, n_layers, drop_prob=0.2):\n",
        "        super(LSTMNet, self).__init__()\n",
        "        self.hidden_dim = hidden_dim\n",
        "        self.n_layers = n_layers\n",
        "\n",
        "        self.lstm = nn.LSTM(\n",
        "            input_dim, hidden_dim, n_layers, batch_first=True, dropout=drop_prob\n",
        "        )\n",
        "        self.fc = nn.Linear(hidden_dim, output_dim)\n",
        "        self.relu = nn.ReLU()\n",
        "\n",
        "    def forward(self, x, h=None):\n",
        "        out, h = self.lstm(x, h)\n",
        "        out = self.fc(self.relu(out[:, -1]))\n",
        "        return out, h\n",
        "\n",
        "    def init_hidden(self, batch_size):\n",
        "        weight = next(self.parameters()).data\n",
        "        # Initialze h_0, c_0 with zeros\n",
        "        hidden = (\n",
        "            weight.new(self.n_layers, batch_size, self.hidden_dim)\n",
        "            .zero_()\n",
        "            .to(device),  # h_0\n",
        "            weight.new(self.n_layers, batch_size, self.hidden_dim).zero_().to(device),\n",
        "        )\n",
        "        return hidden"
      ],
      "metadata": {
        "id": "N2ZyPFdxtEMK"
      },
      "execution_count": 27,
      "outputs": []
    },
    {
      "cell_type": "code",
      "source": [
        "def train(train_loader, val_loader, learn_rate, hidden_dim=256, n_layers=2, n_epochs=3, model_type=\"GRU\", print_every=100, threshold=0.02):\n",
        "    input_dim = next(iter(train_loader))[0].shape[2]\n",
        "    output_dim = 1\n",
        "\n",
        "    # Instantiate the model\n",
        "    if model_type == \"GRU\":\n",
        "        model = GRUNet(input_dim, hidden_dim, output_dim, n_layers)\n",
        "    else:\n",
        "        model = LSTMNet(input_dim, hidden_dim, output_dim, n_layers)\n",
        "    model.to(device)\n",
        "\n",
        "    # Define loss function and optimizer\n",
        "    criterion = nn.MSELoss()\n",
        "    optimizer = torch.optim.Adam(model.parameters(), lr=learn_rate)\n",
        "\n",
        "    model.train()\n",
        "    print(\"Starting Training of {} model\".format(model_type))\n",
        "    epoch_times = []\n",
        "\n",
        "    train_losses = []\n",
        "    val_losses = []\n",
        "    train_accs = []\n",
        "    val_accs = []\n",
        "\n",
        "    # Start training loop\n",
        "    for epoch in range(1, n_epochs + 1):\n",
        "        start_time = time.process_time()\n",
        "\n",
        "        # Training loop\n",
        "        h = model.init_hidden(batch_size)\n",
        "        avg_loss = 0.0\n",
        "        correct_count = 0\n",
        "        total_count = 0\n",
        "        counter = 0\n",
        "        for x, label in train_loader:\n",
        "            counter += 1\n",
        "            if model_type == \"GRU\":\n",
        "                h = h.data\n",
        "            elif model_type == \"LSTM\":\n",
        "                h = tuple([e.data for e in h])\n",
        "\n",
        "            model.zero_grad()\n",
        "            out, h = model(x.to(device).float(), h)\n",
        "            loss = criterion(out, label.to(device).float())\n",
        "            loss.backward()\n",
        "            optimizer.step()\n",
        "\n",
        "            avg_loss += loss.item()\n",
        "            diff = torch.abs(out - label.to(device).float())\n",
        "            correct_count += (diff <= threshold).sum().item()\n",
        "            total_count += diff.numel()\n",
        "            if counter % print_every == 0:\n",
        "                print(\n",
        "                    f\"Epoch {epoch} - Step: {counter}/{len(train_loader)} - Average Loss for Epoch: {avg_loss/counter}\"\n",
        "                )\n",
        "\n",
        "        current_time = time.process_time()\n",
        "        train_losses.append(avg_loss / len(train_loader))\n",
        "        train_acc = correct_count / total_count\n",
        "        train_accs.append(train_acc)\n",
        "        print(f\"Epoch {epoch}/{n_epochs} Done, Train Loss: {train_losses[-1]}, Train Accuracy: {train_acc}\")\n",
        "        print(f\"Time Elapsed for Epoch: {current_time-start_time} seconds\")\n",
        "\n",
        "        # Validation loop\n",
        "        model.eval()\n",
        "        with torch.no_grad():\n",
        "            val_loss = 0.0\n",
        "            correct_count = 0\n",
        "            total_count = 0\n",
        "            for x, label in val_loader:\n",
        "                h = model.init_hidden(batch_size)\n",
        "                if model_type == \"GRU\":\n",
        "                    h = h.data\n",
        "                elif model_type == \"LSTM\":\n",
        "                    h = tuple([e.data for e in h])\n",
        "\n",
        "                out, h = model(x.to(device).float(), h)\n",
        "                loss = criterion(out, label.to(device).float())\n",
        "                val_loss += loss.item()\n",
        "\n",
        "                diff = torch.abs(out - label.to(device).float())\n",
        "                correct_count += (diff <= threshold).sum().item()\n",
        "                total_count += diff.numel()\n",
        "\n",
        "            val_losses.append(val_loss / len(val_loader))\n",
        "            val_acc = correct_count / total_count\n",
        "            val_accs.append(val_acc)\n",
        "            print(f\"Validation Loss: {val_losses[-1]} - Validation Accuracy: {val_acc}\")\n",
        "        model.train()\n",
        "    \n",
        "    # Plot the training and validation accuracy\n",
        "    plt.figure(figsize=(15, 12))\n",
        "    plt.subplot(2, 2, 1)\n",
        "    plt.plot(train_accs, label=\"Train accuracy\")\n",
        "    plt.plot(val_accs, label=\"Validation accuracy\")\n",
        "    plt.legend()\n",
        "    plt.xlabel(\"Epoch\")\n",
        "    plt.ylabel(\"Loss\")\n",
        "    plt.show()\n",
        "\n",
        "    # Plot the training and validation losses\n",
        "    plt.figure(figsize=(15, 12))\n",
        "    plt.subplot(2, 2, 2)\n",
        "    plt.plot(train_losses, label=\"Train Loss\")\n",
        "    plt.plot(val_losses, label=\"Validation Loss\")\n",
        "    plt.legend()\n",
        "    plt.xlabel(\"Epoch\")\n",
        "    plt.ylabel(\"Loss\")\n",
        "    plt.show()\n",
        "\n",
        "    print(f\"Total Training Time: {sum(epoch_times)} seconds\")\n",
        "\n",
        "    return model"
      ],
      "metadata": {
        "id": "8pJtTiNotGmR"
      },
      "execution_count": 72,
      "outputs": []
    },
    {
      "cell_type": "markdown",
      "source": [
        "# Training LSTM Model"
      ],
      "metadata": {
        "id": "bSACIKH5txoA"
      }
    },
    {
      "cell_type": "code",
      "source": [
        "n_hidden = 256\n",
        "n_layers = 2\n",
        "n_epochs = 120\n",
        "print_every = 1200\n",
        "lr = 0.001\n",
        "lstm_model = train(\n",
        "    train_loader,\n",
        "    val_loader=val_loader,\n",
        "    learn_rate=lr,\n",
        "    hidden_dim=n_hidden,\n",
        "    n_layers=n_layers,\n",
        "    n_epochs=n_epochs,\n",
        "    model_type=\"LSTM\",\n",
        "    print_every=print_every,\n",
        ")"
      ],
      "metadata": {
        "colab": {
          "base_uri": "https://localhost:8080/",
          "height": 1000
        },
        "id": "RLHIew2it1Yo",
        "outputId": "e9108846-9463-4a02-cd6b-d77d9570f0e6"
      },
      "execution_count": 74,
      "outputs": [
        {
          "output_type": "stream",
          "name": "stdout",
          "text": [
            "Starting Training of LSTM model\n",
            "Epoch 1 - Step: 1200/1214 - Average Loss for Epoch: 0.006772407049284084\n",
            "Epoch 1/120 Done, Train Loss: 0.006750349251273789, Train Accuracy: 0.3103892092257002\n",
            "Time Elapsed for Epoch: 5.3113054929999635 seconds\n",
            "Validation Loss: 0.004391312197491637 - Validation Accuracy: 0.349009900990099\n",
            "Epoch 2 - Step: 1200/1214 - Average Loss for Epoch: 0.004295950808203391\n",
            "Epoch 2/120 Done, Train Loss: 0.004296744609344827, Train Accuracy: 0.3790671334431631\n",
            "Time Elapsed for Epoch: 5.650080897000407 seconds\n",
            "Validation Loss: 0.005589031325822247 - Validation Accuracy: 0.22112211221122113\n",
            "Epoch 3 - Step: 1200/1214 - Average Loss for Epoch: 0.004069884871617736\n",
            "Epoch 3/120 Done, Train Loss: 0.0040750311605791106, Train Accuracy: 0.4113467874794069\n",
            "Time Elapsed for Epoch: 5.260845129000245 seconds\n",
            "Validation Loss: 0.003695082761233568 - Validation Accuracy: 0.4535891089108911\n",
            "Epoch 4 - Step: 1200/1214 - Average Loss for Epoch: 0.003983011156136248\n",
            "Epoch 4/120 Done, Train Loss: 0.003975591700278795, Train Accuracy: 0.42220963756177926\n",
            "Time Elapsed for Epoch: 5.663949782000145 seconds\n",
            "Validation Loss: 0.0037032630308585016 - Validation Accuracy: 0.4282178217821782\n",
            "Epoch 5 - Step: 1200/1214 - Average Loss for Epoch: 0.0038605132506684945\n",
            "Epoch 5/120 Done, Train Loss: 0.0038750435275674293, Train Accuracy: 0.45495263591433277\n",
            "Time Elapsed for Epoch: 5.313898555999913 seconds\n",
            "Validation Loss: 0.0039529026862120155 - Validation Accuracy: 0.3686056105610561\n",
            "Epoch 6 - Step: 1200/1214 - Average Loss for Epoch: 0.0038834250606911763\n",
            "Epoch 6/120 Done, Train Loss: 0.003869634551081758, Train Accuracy: 0.4535626029654036\n",
            "Time Elapsed for Epoch: 5.678490215000238 seconds\n",
            "Validation Loss: 0.003485836775815145 - Validation Accuracy: 0.5492986798679867\n",
            "Epoch 7 - Step: 1200/1214 - Average Loss for Epoch: 0.0038038792319760734\n",
            "Epoch 7/120 Done, Train Loss: 0.003792952935279829, Train Accuracy: 0.47111820428336076\n",
            "Time Elapsed for Epoch: 5.275682187000257 seconds\n",
            "Validation Loss: 0.003732966432688303 - Validation Accuracy: 0.584983498349835\n",
            "Epoch 8 - Step: 1200/1214 - Average Loss for Epoch: 0.003802420185941931\n",
            "Epoch 8/120 Done, Train Loss: 0.0038198435850392743, Train Accuracy: 0.46504324546952225\n",
            "Time Elapsed for Epoch: 5.639865752999867 seconds\n",
            "Validation Loss: 0.003458178415337405 - Validation Accuracy: 0.5754950495049505\n",
            "Epoch 9 - Step: 1200/1214 - Average Loss for Epoch: 0.0037305224993178852\n",
            "Epoch 9/120 Done, Train Loss: 0.003734006616512284, Train Accuracy: 0.4924320428336079\n",
            "Time Elapsed for Epoch: 5.268737128000339 seconds\n",
            "Validation Loss: 0.0035013269383126788 - Validation Accuracy: 0.584983498349835\n",
            "Epoch 10 - Step: 1200/1214 - Average Loss for Epoch: 0.0037229204727433777\n",
            "Epoch 10/120 Done, Train Loss: 0.003715589824387699, Train Accuracy: 0.4920201812191104\n",
            "Time Elapsed for Epoch: 5.644283531999918 seconds\n",
            "Validation Loss: 0.0034558489162681573 - Validation Accuracy: 0.5684818481848185\n",
            "Epoch 11 - Step: 1200/1214 - Average Loss for Epoch: 0.003713800739242288\n",
            "Epoch 11/120 Done, Train Loss: 0.0037120286516799774, Train Accuracy: 0.49819810543657334\n",
            "Time Elapsed for Epoch: 5.246523267000157 seconds\n",
            "Validation Loss: 0.0036586463449848664 - Validation Accuracy: 0.4884488448844885\n",
            "Epoch 12 - Step: 1200/1214 - Average Loss for Epoch: 0.003703269921449343\n",
            "Epoch 12/120 Done, Train Loss: 0.0036935123470382683, Train Accuracy: 0.4948002471169687\n",
            "Time Elapsed for Epoch: 5.556664502999865 seconds\n",
            "Validation Loss: 0.0036951830203755583 - Validation Accuracy: 0.5078382838283828\n",
            "Epoch 13 - Step: 1200/1214 - Average Loss for Epoch: 0.003666419722212595\n",
            "Epoch 13/120 Done, Train Loss: 0.0036712196437460546, Train Accuracy: 0.5106054365733114\n",
            "Time Elapsed for Epoch: 5.270253357999991 seconds\n",
            "Validation Loss: 0.003471981756177442 - Validation Accuracy: 0.5759075907590759\n",
            "Epoch 14 - Step: 1200/1214 - Average Loss for Epoch: 0.003653627554704144\n",
            "Epoch 14/120 Done, Train Loss: 0.0036523513650862827, Train Accuracy: 0.5117895387149918\n",
            "Time Elapsed for Epoch: 5.670992934999958 seconds\n",
            "Validation Loss: 0.0035475159044532725 - Validation Accuracy: 0.581476897689769\n",
            "Epoch 15 - Step: 1200/1214 - Average Loss for Epoch: 0.003649990933893908\n",
            "Epoch 15/120 Done, Train Loss: 0.0036525434796029817, Train Accuracy: 0.5306836902800659\n",
            "Time Elapsed for Epoch: 5.243035184999826 seconds\n",
            "Validation Loss: 0.003448853073945183 - Validation Accuracy: 0.5915841584158416\n",
            "Epoch 16 - Step: 1200/1214 - Average Loss for Epoch: 0.0036312137698405423\n",
            "Epoch 16/120 Done, Train Loss: 0.0036288181807118186, Train Accuracy: 0.5193574958813838\n",
            "Time Elapsed for Epoch: 5.698780287999853 seconds\n",
            "Validation Loss: 0.0035854692276176864 - Validation Accuracy: 0.49422442244224424\n",
            "Epoch 17 - Step: 1200/1214 - Average Loss for Epoch: 0.0035814114347279733\n",
            "Epoch 17/120 Done, Train Loss: 0.003588813539409624, Train Accuracy: 0.5309411037891268\n",
            "Time Elapsed for Epoch: 5.254664335000143 seconds\n",
            "Validation Loss: 0.0036596422558750267 - Validation Accuracy: 0.4771039603960396\n",
            "Epoch 18 - Step: 1200/1214 - Average Loss for Epoch: 0.0035793854642057945\n",
            "Epoch 18/120 Done, Train Loss: 0.0035739366297017094, Train Accuracy: 0.5466433278418451\n",
            "Time Elapsed for Epoch: 5.605480305999663 seconds\n",
            "Validation Loss: 0.0034377907208115533 - Validation Accuracy: 0.5550742574257426\n",
            "Epoch 19 - Step: 1200/1214 - Average Loss for Epoch: 0.003577243621645418\n",
            "Epoch 19/120 Done, Train Loss: 0.0035736459007991487, Train Accuracy: 0.5359864085667215\n",
            "Time Elapsed for Epoch: 5.244437238000046 seconds\n",
            "Validation Loss: 0.0034392043489427995 - Validation Accuracy: 0.5829207920792079\n",
            "Epoch 20 - Step: 1200/1214 - Average Loss for Epoch: 0.0035691189883558156\n",
            "Epoch 20/120 Done, Train Loss: 0.0035686690257557266, Train Accuracy: 0.5398476112026359\n",
            "Time Elapsed for Epoch: 5.628687387000355 seconds\n",
            "Validation Loss: 0.003399434804888719 - Validation Accuracy: 0.6056105610561056\n",
            "Epoch 21 - Step: 1200/1214 - Average Loss for Epoch: 0.0035507742804838927\n",
            "Epoch 21/120 Done, Train Loss: 0.003557044093460562, Train Accuracy: 0.5419584019769358\n",
            "Time Elapsed for Epoch: 5.291207959000076 seconds\n",
            "Validation Loss: 0.0035247591687420157 - Validation Accuracy: 0.44616336633663367\n",
            "Epoch 22 - Step: 1200/1214 - Average Loss for Epoch: 0.0035520494613835276\n",
            "Epoch 22/120 Done, Train Loss: 0.0035441394047516276, Train Accuracy: 0.546900741350906\n",
            "Time Elapsed for Epoch: 5.620185392000167 seconds\n",
            "Validation Loss: 0.00347427416529634 - Validation Accuracy: 0.601897689768977\n",
            "Epoch 23 - Step: 1200/1214 - Average Loss for Epoch: 0.0035426661073264163\n",
            "Epoch 23/120 Done, Train Loss: 0.003534714887665918, Train Accuracy: 0.5563735584843492\n",
            "Time Elapsed for Epoch: 5.252101138999933 seconds\n",
            "Validation Loss: 0.0034193321791625036 - Validation Accuracy: 0.5878712871287128\n",
            "Epoch 24 - Step: 1200/1214 - Average Loss for Epoch: 0.0035413533510654815\n",
            "Epoch 24/120 Done, Train Loss: 0.0035460179763487647, Train Accuracy: 0.5450473640856672\n",
            "Time Elapsed for Epoch: 5.626327129999936 seconds\n",
            "Validation Loss: 0.003387840836769563 - Validation Accuracy: 0.6175742574257426\n",
            "Epoch 25 - Step: 1200/1214 - Average Loss for Epoch: 0.003561060878152299\n",
            "Epoch 25/120 Done, Train Loss: 0.0035551097143095836, Train Accuracy: 0.5424217462932455\n",
            "Time Elapsed for Epoch: 5.221823072999996 seconds\n",
            "Validation Loss: 0.0034438501034937063 - Validation Accuracy: 0.6111798679867987\n",
            "Epoch 26 - Step: 1200/1214 - Average Loss for Epoch: 0.0035310155426122947\n",
            "Epoch 26/120 Done, Train Loss: 0.003536063631083793, Train Accuracy: 0.5504015650741351\n",
            "Time Elapsed for Epoch: 5.559904789000029 seconds\n",
            "Validation Loss: 0.0034155439407846707 - Validation Accuracy: 0.5734323432343235\n",
            "Epoch 27 - Step: 1200/1214 - Average Loss for Epoch: 0.003498260500825078\n",
            "Epoch 27/120 Done, Train Loss: 0.0035018108907740935, Train Accuracy: 0.5585358319604613\n",
            "Time Elapsed for Epoch: 5.328241961999993 seconds\n",
            "Validation Loss: 0.003447950144510458 - Validation Accuracy: 0.5806518151815182\n",
            "Epoch 28 - Step: 1200/1214 - Average Loss for Epoch: 0.0035131677204117296\n",
            "Epoch 28/120 Done, Train Loss: 0.003512111922887233, Train Accuracy: 0.5534390444810544\n",
            "Time Elapsed for Epoch: 5.477044253000258 seconds\n",
            "Validation Loss: 0.003441440913238003 - Validation Accuracy: 0.5837458745874587\n",
            "Epoch 29 - Step: 1200/1214 - Average Loss for Epoch: 0.0034723188967836906\n",
            "Epoch 29/120 Done, Train Loss: 0.0034708251766911308, Train Accuracy: 0.5768636738056013\n",
            "Time Elapsed for Epoch: 5.439669024000068 seconds\n",
            "Validation Loss: 0.00336549834821991 - Validation Accuracy: 0.6212871287128713\n",
            "Epoch 30 - Step: 1200/1214 - Average Loss for Epoch: 0.003479690442024245\n",
            "Epoch 30/120 Done, Train Loss: 0.003471266720036894, Train Accuracy: 0.5691412685337727\n",
            "Time Elapsed for Epoch: 5.292448181000054 seconds\n",
            "Validation Loss: 0.003395004484190824 - Validation Accuracy: 0.6495462046204621\n",
            "Epoch 31 - Step: 1200/1214 - Average Loss for Epoch: 0.003480264278065685\n",
            "Epoch 31/120 Done, Train Loss: 0.0034717930719565947, Train Accuracy: 0.5686779242174629\n",
            "Time Elapsed for Epoch: 5.6324647760002335 seconds\n",
            "Validation Loss: 0.003505882032510668 - Validation Accuracy: 0.5451732673267327\n",
            "Epoch 32 - Step: 1200/1214 - Average Loss for Epoch: 0.0034749871867461478\n",
            "Epoch 32/120 Done, Train Loss: 0.003468313463189224, Train Accuracy: 0.5736717462932455\n",
            "Time Elapsed for Epoch: 5.246510267000303 seconds\n",
            "Validation Loss: 0.0034011767907917234 - Validation Accuracy: 0.5882838283828383\n",
            "Epoch 33 - Step: 1200/1214 - Average Loss for Epoch: 0.003448971096743965\n",
            "Epoch 33/120 Done, Train Loss: 0.0034515960421907035, Train Accuracy: 0.5792833607907742\n",
            "Time Elapsed for Epoch: 5.629647384999771 seconds\n",
            "Validation Loss: 0.003335990246587814 - Validation Accuracy: 0.6235561056105611\n",
            "Epoch 34 - Step: 1200/1214 - Average Loss for Epoch: 0.003404046816843523\n",
            "Epoch 34/120 Done, Train Loss: 0.003411221324683465, Train Accuracy: 0.5614703459637562\n",
            "Time Elapsed for Epoch: 5.192541505999998 seconds\n",
            "Validation Loss: 0.003593645351915851 - Validation Accuracy: 0.4997937293729373\n",
            "Epoch 35 - Step: 1200/1214 - Average Loss for Epoch: 0.003389793589388622\n",
            "Epoch 35/120 Done, Train Loss: 0.0033901896955911646, Train Accuracy: 0.5788200164744646\n",
            "Time Elapsed for Epoch: 5.605517922000217 seconds\n",
            "Validation Loss: 0.003288993174221717 - Validation Accuracy: 0.6031353135313532\n",
            "Epoch 36 - Step: 1200/1214 - Average Loss for Epoch: 0.0033711215887766836\n",
            "Epoch 36/120 Done, Train Loss: 0.003371891561725205, Train Accuracy: 0.5777903624382208\n",
            "Time Elapsed for Epoch: 5.313285856999755 seconds\n",
            "Validation Loss: 0.0032208353717482524 - Validation Accuracy: 0.6196369636963697\n",
            "Epoch 37 - Step: 1200/1214 - Average Loss for Epoch: 0.003316611637231593\n",
            "Epoch 37/120 Done, Train Loss: 0.003324845799848737, Train Accuracy: 0.5812911861614497\n",
            "Time Elapsed for Epoch: 5.653050618000179 seconds\n",
            "Validation Loss: 0.0033756650678552964 - Validation Accuracy: 0.5057755775577558\n",
            "Epoch 38 - Step: 1200/1214 - Average Loss for Epoch: 0.003337018990763075\n",
            "Epoch 38/120 Done, Train Loss: 0.0033400047645168423, Train Accuracy: 0.5747014003294892\n",
            "Time Elapsed for Epoch: 5.209391103999678 seconds\n",
            "Validation Loss: 0.003354213445826984 - Validation Accuracy: 0.5761138613861386\n",
            "Epoch 39 - Step: 1200/1214 - Average Loss for Epoch: 0.0033008995358856435\n",
            "Epoch 39/120 Done, Train Loss: 0.0032975054409195167, Train Accuracy: 0.5792833607907742\n",
            "Time Elapsed for Epoch: 5.583172289999766 seconds\n",
            "Validation Loss: 0.003201332990339075 - Validation Accuracy: 0.634075907590759\n",
            "Epoch 40 - Step: 1200/1214 - Average Loss for Epoch: 0.003284975567124396\n",
            "Epoch 40/120 Done, Train Loss: 0.0032826196822327066, Train Accuracy: 0.5666700988467874\n",
            "Time Elapsed for Epoch: 5.216128925000248 seconds\n",
            "Validation Loss: 0.003291997366164897 - Validation Accuracy: 0.6608910891089109\n",
            "Epoch 41 - Step: 1200/1214 - Average Loss for Epoch: 0.0032048446018598043\n",
            "Epoch 41/120 Done, Train Loss: 0.003194682361151297, Train Accuracy: 0.5886017298187809\n",
            "Time Elapsed for Epoch: 5.654025491999619 seconds\n",
            "Validation Loss: 0.0030825727279878163 - Validation Accuracy: 0.6648102310231023\n",
            "Epoch 42 - Step: 1200/1214 - Average Loss for Epoch: 0.0032143975717553986\n",
            "Epoch 42/120 Done, Train Loss: 0.003213840005196776, Train Accuracy: 0.5844316309719935\n",
            "Time Elapsed for Epoch: 5.333768281000175 seconds\n",
            "Validation Loss: 0.003060521556726479 - Validation Accuracy: 0.6349009900990099\n",
            "Epoch 43 - Step: 1200/1214 - Average Loss for Epoch: 0.003130324746101299\n",
            "Epoch 43/120 Done, Train Loss: 0.0031342026668605915, Train Accuracy: 0.5791803953871499\n",
            "Time Elapsed for Epoch: 5.658734470999661 seconds\n",
            "Validation Loss: 0.003024892711884376 - Validation Accuracy: 0.5911716171617162\n",
            "Epoch 44 - Step: 1200/1214 - Average Loss for Epoch: 0.0030543388431821463\n",
            "Epoch 44/120 Done, Train Loss: 0.0030527165257287097, Train Accuracy: 0.5923084843492586\n",
            "Time Elapsed for Epoch: 5.2148640649998015 seconds\n",
            "Validation Loss: 0.0029649436702931043 - Validation Accuracy: 0.650990099009901\n",
            "Epoch 45 - Step: 1200/1214 - Average Loss for Epoch: 0.002989728230556163\n",
            "Epoch 45/120 Done, Train Loss: 0.002989052369967379, Train Accuracy: 0.592926276771005\n",
            "Time Elapsed for Epoch: 5.642127373999756 seconds\n",
            "Validation Loss: 0.0028515327072521 - Validation Accuracy: 0.6291254125412541\n",
            "Epoch 46 - Step: 1200/1214 - Average Loss for Epoch: 0.0029742867658630228\n",
            "Epoch 46/120 Done, Train Loss: 0.0029790594155765064, Train Accuracy: 0.5893224876441515\n",
            "Time Elapsed for Epoch: 5.2650380439999935 seconds\n",
            "Validation Loss: 0.002858104401924294 - Validation Accuracy: 0.6361386138613861\n",
            "Epoch 47 - Step: 1200/1214 - Average Loss for Epoch: 0.002976911242949427\n",
            "Epoch 47/120 Done, Train Loss: 0.0029701752337821584, Train Accuracy: 0.5924114497528831\n",
            "Time Elapsed for Epoch: 5.721608890000425 seconds\n",
            "Validation Loss: 0.0028326249109518102 - Validation Accuracy: 0.6511963696369637\n",
            "Epoch 48 - Step: 1200/1214 - Average Loss for Epoch: 0.0029099231892541866\n",
            "Epoch 48/120 Done, Train Loss: 0.0029000148050303117, Train Accuracy: 0.6039435749588138\n",
            "Time Elapsed for Epoch: 5.2884149550000075 seconds\n",
            "Validation Loss: 0.002777282101822181 - Validation Accuracy: 0.6410891089108911\n",
            "Epoch 49 - Step: 1200/1214 - Average Loss for Epoch: 0.002857661690322857\n",
            "Epoch 49/120 Done, Train Loss: 0.002854391423110521, Train Accuracy: 0.6000308896210873\n",
            "Time Elapsed for Epoch: 5.597096982000039 seconds\n",
            "Validation Loss: 0.002714931027404349 - Validation Accuracy: 0.6860561056105611\n",
            "Epoch 50 - Step: 1200/1214 - Average Loss for Epoch: 0.0027724690851997974\n",
            "Epoch 50/120 Done, Train Loss: 0.0027813769215192415, Train Accuracy: 0.6110481878088962\n",
            "Time Elapsed for Epoch: 5.21927235000021 seconds\n",
            "Validation Loss: 0.0031578102103300416 - Validation Accuracy: 0.6654290429042904\n",
            "Epoch 51 - Step: 1200/1214 - Average Loss for Epoch: 0.0027736897206826444\n",
            "Epoch 51/120 Done, Train Loss: 0.002771326075324327, Train Accuracy: 0.61207784184514\n",
            "Time Elapsed for Epoch: 5.589751652999894 seconds\n",
            "Validation Loss: 0.0025200117315552213 - Validation Accuracy: 0.654496699669967\n",
            "Epoch 52 - Step: 1200/1214 - Average Loss for Epoch: 0.0027339423817102216\n",
            "Epoch 52/120 Done, Train Loss: 0.0027383653301105274, Train Accuracy: 0.6143945634266886\n",
            "Time Elapsed for Epoch: 5.269273069999599 seconds\n",
            "Validation Loss: 0.00294051743777186 - Validation Accuracy: 0.6128300330033003\n",
            "Epoch 53 - Step: 1200/1214 - Average Loss for Epoch: 0.0026767051220061453\n",
            "Epoch 53/120 Done, Train Loss: 0.002670234674163515, Train Accuracy: 0.6219625205930808\n",
            "Time Elapsed for Epoch: 5.638646572000198 seconds\n",
            "Validation Loss: 0.0025280706841681495 - Validation Accuracy: 0.6982260726072608\n",
            "Epoch 54 - Step: 1200/1214 - Average Loss for Epoch: 0.0026452390180444732\n",
            "Epoch 54/120 Done, Train Loss: 0.002640735733688539, Train Accuracy: 0.6176379736408567\n",
            "Time Elapsed for Epoch: 5.27014086600002 seconds\n",
            "Validation Loss: 0.0024827839694775045 - Validation Accuracy: 0.7040016501650165\n",
            "Epoch 55 - Step: 1200/1214 - Average Loss for Epoch: 0.002627676557955662\n",
            "Epoch 55/120 Done, Train Loss: 0.0026241015934327246, Train Accuracy: 0.6179468698517299\n",
            "Time Elapsed for Epoch: 5.714340630000152 seconds\n",
            "Validation Loss: 0.0027139101618045645 - Validation Accuracy: 0.648102310231023\n",
            "Epoch 56 - Step: 1200/1214 - Average Loss for Epoch: 0.0025459428382206776\n",
            "Epoch 56/120 Done, Train Loss: 0.0025500165445340906, Train Accuracy: 0.6323105436573312\n",
            "Time Elapsed for Epoch: 5.224536083000203 seconds\n",
            "Validation Loss: 0.0021506837120997373 - Validation Accuracy: 0.6753300330033003\n",
            "Epoch 57 - Step: 1200/1214 - Average Loss for Epoch: 0.002556394834100502\n",
            "Epoch 57/120 Done, Train Loss: 0.002558262566682964, Train Accuracy: 0.6250514827018122\n",
            "Time Elapsed for Epoch: 5.752067583000098 seconds\n",
            "Validation Loss: 0.0024818565262129636 - Validation Accuracy: 0.5948844884488449\n",
            "Epoch 58 - Step: 1200/1214 - Average Loss for Epoch: 0.0024397242769373406\n",
            "Epoch 58/120 Done, Train Loss: 0.0024324296081531774, Train Accuracy: 0.6419892915980231\n",
            "Time Elapsed for Epoch: 5.3017550119998305 seconds\n",
            "Validation Loss: 0.002191931335870238 - Validation Accuracy: 0.6986386138613861\n",
            "Epoch 59 - Step: 1200/1214 - Average Loss for Epoch: 0.0024023107643552067\n",
            "Epoch 59/120 Done, Train Loss: 0.0024019170922846777, Train Accuracy: 0.6364291598023064\n",
            "Time Elapsed for Epoch: 5.6580029850001665 seconds\n",
            "Validation Loss: 0.00211221566819509 - Validation Accuracy: 0.7124587458745875\n",
            "Epoch 60 - Step: 1200/1214 - Average Loss for Epoch: 0.002379033988087637\n",
            "Epoch 60/120 Done, Train Loss: 0.0023792347708688267, Train Accuracy: 0.6437911861614497\n",
            "Time Elapsed for Epoch: 5.255657980999786 seconds\n",
            "Validation Loss: 0.0021422287356694346 - Validation Accuracy: 0.6330445544554455\n",
            "Epoch 61 - Step: 1200/1214 - Average Loss for Epoch: 0.0023390628047369926\n",
            "Epoch 61/120 Done, Train Loss: 0.002341173300312934, Train Accuracy: 0.6453356672158155\n",
            "Time Elapsed for Epoch: 5.541609740999775 seconds\n",
            "Validation Loss: 0.002053688014351756 - Validation Accuracy: 0.7211221122112211\n",
            "Epoch 62 - Step: 1200/1214 - Average Loss for Epoch: 0.0023398544531967975\n",
            "Epoch 62/120 Done, Train Loss: 0.0023330983380702016, Train Accuracy: 0.6467771828665568\n",
            "Time Elapsed for Epoch: 5.221311394999702 seconds\n",
            "Validation Loss: 0.0021111297413905416 - Validation Accuracy: 0.7101897689768977\n",
            "Epoch 63 - Step: 1200/1214 - Average Loss for Epoch: 0.0022560833836178062\n",
            "Epoch 63/120 Done, Train Loss: 0.0022540373120526363, Train Accuracy: 0.6531095551894563\n",
            "Time Elapsed for Epoch: 5.458434078000209 seconds\n",
            "Validation Loss: 0.0020134727231982986 - Validation Accuracy: 0.6464521452145214\n",
            "Epoch 64 - Step: 1200/1214 - Average Loss for Epoch: 0.0023060613706305353\n",
            "Epoch 64/120 Done, Train Loss: 0.0023098821321616827, Train Accuracy: 0.6469316309719935\n",
            "Time Elapsed for Epoch: 5.267652423000072 seconds\n",
            "Validation Loss: 0.002462696727769059 - Validation Accuracy: 0.621493399339934\n",
            "Epoch 65 - Step: 1200/1214 - Average Loss for Epoch: 0.002174033607625461\n",
            "Epoch 65/120 Done, Train Loss: 0.0021799146631177164, Train Accuracy: 0.6513076606260296\n",
            "Time Elapsed for Epoch: 5.353916843000206 seconds\n",
            "Validation Loss: 0.0018981148347814903 - Validation Accuracy: 0.7042079207920792\n",
            "Epoch 66 - Step: 1200/1214 - Average Loss for Epoch: 0.0021892965938665535\n",
            "Epoch 66/120 Done, Train Loss: 0.0021842933291897023, Train Accuracy: 0.6605745469522241\n",
            "Time Elapsed for Epoch: 5.328151972000342 seconds\n",
            "Validation Loss: 0.001900142220842303 - Validation Accuracy: 0.7116336633663366\n",
            "Epoch 67 - Step: 1200/1214 - Average Loss for Epoch: 0.0021288009996654486\n",
            "Epoch 67/120 Done, Train Loss: 0.0021329882503082977, Train Accuracy: 0.6572796540362438\n",
            "Time Elapsed for Epoch: 5.361149858000317 seconds\n",
            "Validation Loss: 0.002262936054964061 - Validation Accuracy: 0.5816831683168316\n",
            "Epoch 68 - Step: 1200/1214 - Average Loss for Epoch: 0.0021375586132247313\n",
            "Epoch 68/120 Done, Train Loss: 0.002137099973086607, Train Accuracy: 0.6638694398682042\n",
            "Time Elapsed for Epoch: 5.45621898599984 seconds\n",
            "Validation Loss: 0.0018859060245670575 - Validation Accuracy: 0.6854372937293729\n",
            "Epoch 69 - Step: 1200/1214 - Average Loss for Epoch: 0.002064409809651503\n",
            "Epoch 69/120 Done, Train Loss: 0.0020665513352386726, Train Accuracy: 0.664332784184514\n",
            "Time Elapsed for Epoch: 5.24967480100031 seconds\n",
            "Validation Loss: 0.001689405633280132 - Validation Accuracy: 0.715552805280528\n",
            "Epoch 70 - Step: 1200/1214 - Average Loss for Epoch: 0.0020388175465086535\n",
            "Epoch 70/120 Done, Train Loss: 0.0020322187434577655, Train Accuracy: 0.6655168863261944\n",
            "Time Elapsed for Epoch: 5.562246288000097 seconds\n",
            "Validation Loss: 0.0016754395332544345 - Validation Accuracy: 0.7316419141914191\n",
            "Epoch 71 - Step: 1200/1214 - Average Loss for Epoch: 0.0019688793054289514\n",
            "Epoch 71/120 Done, Train Loss: 0.00196803301608688, Train Accuracy: 0.6778727347611203\n",
            "Time Elapsed for Epoch: 5.182216872000026 seconds\n",
            "Validation Loss: 0.0016461020313367008 - Validation Accuracy: 0.6899752475247525\n",
            "Epoch 72 - Step: 1200/1214 - Average Loss for Epoch: 0.0019164464175749649\n",
            "Epoch 72/120 Done, Train Loss: 0.0019127466645677876, Train Accuracy: 0.6747322899505767\n",
            "Time Elapsed for Epoch: 5.694520417000149 seconds\n",
            "Validation Loss: 0.0015593917788545794 - Validation Accuracy: 0.7223597359735974\n",
            "Epoch 73 - Step: 1200/1214 - Average Loss for Epoch: 0.0019676905076448747\n",
            "Epoch 73/120 Done, Train Loss: 0.001963150077228309, Train Accuracy: 0.6698929159802306\n",
            "Time Elapsed for Epoch: 5.245482515000276 seconds\n",
            "Validation Loss: 0.0016227171414573262 - Validation Accuracy: 0.7200907590759076\n",
            "Epoch 74 - Step: 1200/1214 - Average Loss for Epoch: 0.0019811020724046103\n",
            "Epoch 74/120 Done, Train Loss: 0.0019780981391610305, Train Accuracy: 0.673754118616145\n",
            "Time Elapsed for Epoch: 5.612314840000181 seconds\n",
            "Validation Loss: 0.0015736064196611515 - Validation Accuracy: 0.7314356435643564\n",
            "Epoch 75 - Step: 1200/1214 - Average Loss for Epoch: 0.0017706785447141253\n",
            "Epoch 75/120 Done, Train Loss: 0.0017764122479091704, Train Accuracy: 0.6860070016474464\n",
            "Time Elapsed for Epoch: 5.266845676999765 seconds\n",
            "Validation Loss: 0.001786134352142194 - Validation Accuracy: 0.6027227722772277\n",
            "Epoch 76 - Step: 1200/1214 - Average Loss for Epoch: 0.0018585997959538266\n",
            "Epoch 76/120 Done, Train Loss: 0.0018499997340753476, Train Accuracy: 0.6737026359143328\n",
            "Time Elapsed for Epoch: 5.605274931000167 seconds\n",
            "Validation Loss: 0.0015800469308346586 - Validation Accuracy: 0.7355610561056105\n",
            "Epoch 77 - Step: 1200/1214 - Average Loss for Epoch: 0.0017709209137380336\n",
            "Epoch 77/120 Done, Train Loss: 0.0017598955779650636, Train Accuracy: 0.6854921746293245\n",
            "Time Elapsed for Epoch: 5.270144606000031 seconds\n",
            "Validation Loss: 0.0014677113901565187 - Validation Accuracy: 0.7642326732673267\n",
            "Epoch 78 - Step: 1200/1214 - Average Loss for Epoch: 0.0017167173880867873\n",
            "Epoch 78/120 Done, Train Loss: 0.0017105333106859362, Train Accuracy: 0.688323723228995\n",
            "Time Elapsed for Epoch: 5.7007526759998655 seconds\n",
            "Validation Loss: 0.0014019152443598005 - Validation Accuracy: 0.7644389438943895\n",
            "Epoch 79 - Step: 1200/1214 - Average Loss for Epoch: 0.0017660139728347228\n",
            "Epoch 79/120 Done, Train Loss: 0.0017704063455857677, Train Accuracy: 0.6847199341021417\n",
            "Time Elapsed for Epoch: 5.256944277999992 seconds\n",
            "Validation Loss: 0.0015730892513896317 - Validation Accuracy: 0.6773927392739274\n",
            "Epoch 80 - Step: 1200/1214 - Average Loss for Epoch: 0.001670744768143777\n",
            "Epoch 80/120 Done, Train Loss: 0.0016741355536128238, Train Accuracy: 0.6955313014827018\n",
            "Time Elapsed for Epoch: 5.652012473000013 seconds\n",
            "Validation Loss: 0.0018746223318801267 - Validation Accuracy: 0.6210808580858086\n",
            "Epoch 81 - Step: 1200/1214 - Average Loss for Epoch: 0.001731743604929458\n",
            "Epoch 81/120 Done, Train Loss: 0.0017467448688296317, Train Accuracy: 0.6846169686985173\n",
            "Time Elapsed for Epoch: 5.234614690999933 seconds\n",
            "Validation Loss: 0.0031713761316063713 - Validation Accuracy: 0.6806930693069307\n",
            "Epoch 82 - Step: 1200/1214 - Average Loss for Epoch: 0.0016300048213755266\n",
            "Epoch 82/120 Done, Train Loss: 0.0016261081869425418, Train Accuracy: 0.6970242998352554\n",
            "Time Elapsed for Epoch: 5.693735367000045 seconds\n",
            "Validation Loss: 0.0014529164242054868 - Validation Accuracy: 0.735973597359736\n",
            "Epoch 83 - Step: 1200/1214 - Average Loss for Epoch: 0.001754007485396869\n",
            "Epoch 83/120 Done, Train Loss: 0.00174934643514589, Train Accuracy: 0.685080313014827\n",
            "Time Elapsed for Epoch: 5.240316620000158 seconds\n",
            "Validation Loss: 0.0013132977126786337 - Validation Accuracy: 0.7000825082508251\n",
            "Epoch 84 - Step: 1200/1214 - Average Loss for Epoch: 0.0016166684769147348\n",
            "Epoch 84/120 Done, Train Loss: 0.0016144288104605559, Train Accuracy: 0.7003191927512356\n",
            "Time Elapsed for Epoch: 5.732014068999888 seconds\n",
            "Validation Loss: 0.0012974291906838855 - Validation Accuracy: 0.7460808580858086\n",
            "Epoch 85 - Step: 1200/1214 - Average Loss for Epoch: 0.0015203649025170307\n",
            "Epoch 85/120 Done, Train Loss: 0.001525721083854947, Train Accuracy: 0.703665568369028\n",
            "Time Elapsed for Epoch: 5.30231014500032 seconds\n",
            "Validation Loss: 0.0025445692723950453 - Validation Accuracy: 0.6561468646864687\n",
            "Epoch 86 - Step: 1200/1214 - Average Loss for Epoch: 0.0014518319998205699\n",
            "Epoch 86/120 Done, Train Loss: 0.0014522566163077274, Train Accuracy: 0.7099464579901154\n",
            "Time Elapsed for Epoch: 5.68183265899961 seconds\n",
            "Validation Loss: 0.0012413397561140181 - Validation Accuracy: 0.7448432343234324\n",
            "Epoch 87 - Step: 1200/1214 - Average Loss for Epoch: 0.001581745499115641\n",
            "Epoch 87/120 Done, Train Loss: 0.0015858341313139946, Train Accuracy: 0.6997528830313015\n",
            "Time Elapsed for Epoch: 5.26694095799985 seconds\n",
            "Validation Loss: 0.0012404155828281177 - Validation Accuracy: 0.755569306930693\n",
            "Epoch 88 - Step: 1200/1214 - Average Loss for Epoch: 0.0014215927616381427\n",
            "Epoch 88/120 Done, Train Loss: 0.0014148161611584721, Train Accuracy: 0.7111305601317958\n",
            "Time Elapsed for Epoch: 5.773146173999976 seconds\n",
            "Validation Loss: 0.0013365484059964254 - Validation Accuracy: 0.7712458745874587\n",
            "Epoch 89 - Step: 1200/1214 - Average Loss for Epoch: 0.001357875291550954\n",
            "Epoch 89/120 Done, Train Loss: 0.0013571697185775662, Train Accuracy: 0.7188014827018122\n",
            "Time Elapsed for Epoch: 5.321402302000024 seconds\n",
            "Validation Loss: 0.00131487518226422 - Validation Accuracy: 0.7101897689768977\n",
            "Epoch 90 - Step: 1200/1214 - Average Loss for Epoch: 0.001357726716929998\n",
            "Epoch 90/120 Done, Train Loss: 0.0013686403362354231, Train Accuracy: 0.7194707578253706\n",
            "Time Elapsed for Epoch: 5.664962578000086 seconds\n",
            "Validation Loss: 0.0019063920775050352 - Validation Accuracy: 0.715552805280528\n",
            "Epoch 91 - Step: 1200/1214 - Average Loss for Epoch: 0.0014337598614110902\n",
            "Epoch 91/120 Done, Train Loss: 0.001426084967150249, Train Accuracy: 0.7108216639209226\n",
            "Time Elapsed for Epoch: 5.293564979000166 seconds\n",
            "Validation Loss: 0.0010492868507936983 - Validation Accuracy: 0.7871287128712872\n",
            "Epoch 92 - Step: 1200/1214 - Average Loss for Epoch: 0.0013328816526882292\n",
            "Epoch 92/120 Done, Train Loss: 0.0013396760193411744, Train Accuracy: 0.7179777594728172\n",
            "Time Elapsed for Epoch: 5.675819147999846 seconds\n",
            "Validation Loss: 0.0019031483630062673 - Validation Accuracy: 0.7007013201320133\n",
            "Epoch 93 - Step: 1200/1214 - Average Loss for Epoch: 0.0013132056601201233\n",
            "Epoch 93/120 Done, Train Loss: 0.001314044059446137, Train Accuracy: 0.724413097199341\n",
            "Time Elapsed for Epoch: 5.404465728000105 seconds\n",
            "Validation Loss: 0.0011193858881837538 - Validation Accuracy: 0.7671204620462047\n",
            "Epoch 94 - Step: 1200/1214 - Average Loss for Epoch: 0.001315500928306695\n",
            "Epoch 94/120 Done, Train Loss: 0.001315409916335857, Train Accuracy: 0.72415568369028\n",
            "Time Elapsed for Epoch: 5.751739347000239 seconds\n",
            "Validation Loss: 0.001108900431369542 - Validation Accuracy: 0.6920379537953796\n",
            "Epoch 95 - Step: 1200/1214 - Average Loss for Epoch: 0.0012271983796805822\n",
            "Epoch 95/120 Done, Train Loss: 0.0012230185717088727, Train Accuracy: 0.7331651565074135\n",
            "Time Elapsed for Epoch: 5.41389726899979 seconds\n",
            "Validation Loss: 0.0012752371231447858 - Validation Accuracy: 0.7524752475247525\n",
            "Epoch 96 - Step: 1200/1214 - Average Loss for Epoch: 0.0012730610660431315\n",
            "Epoch 96/120 Done, Train Loss: 0.0012740086189014874, Train Accuracy: 0.72250823723229\n",
            "Time Elapsed for Epoch: 5.679249585999969 seconds\n",
            "Validation Loss: 0.001104796460759365 - Validation Accuracy: 0.7654702970297029\n",
            "Epoch 97 - Step: 1200/1214 - Average Loss for Epoch: 0.001129617464345453\n",
            "Epoch 97/120 Done, Train Loss: 0.0011379421000624738, Train Accuracy: 0.735172981878089\n",
            "Time Elapsed for Epoch: 5.427997945999778 seconds\n",
            "Validation Loss: 0.0016070840446694935 - Validation Accuracy: 0.7574257425742574\n",
            "Epoch 98 - Step: 1200/1214 - Average Loss for Epoch: 0.0012185506878631713\n",
            "Epoch 98/120 Done, Train Loss: 0.0012141746575392255, Train Accuracy: 0.7322384678747941\n",
            "Time Elapsed for Epoch: 5.517217881999841 seconds\n",
            "Validation Loss: 0.0010108588286781171 - Validation Accuracy: 0.7446369636963697\n",
            "Epoch 99 - Step: 1200/1214 - Average Loss for Epoch: 0.0011306968568715091\n",
            "Epoch 99/120 Done, Train Loss: 0.0011343684515986677, Train Accuracy: 0.7424835255354201\n",
            "Time Elapsed for Epoch: 5.597719703999701 seconds\n",
            "Validation Loss: 0.0012136998464802524 - Validation Accuracy: 0.7462871287128713\n",
            "Epoch 100 - Step: 1200/1214 - Average Loss for Epoch: 0.001187463589822073\n",
            "Epoch 100/120 Done, Train Loss: 0.0011822479590302504, Train Accuracy: 0.7324443986820428\n",
            "Time Elapsed for Epoch: 5.318069761000061 seconds\n",
            "Validation Loss: 0.001129852657049023 - Validation Accuracy: 0.7757838283828383\n",
            "Epoch 101 - Step: 1200/1214 - Average Loss for Epoch: 0.001148794974918322\n",
            "Epoch 101/120 Done, Train Loss: 0.0011435966438934503, Train Accuracy: 0.7438220757825371\n",
            "Time Elapsed for Epoch: 5.715283048999936 seconds\n",
            "Validation Loss: 0.001380677951511634 - Validation Accuracy: 0.753506600660066\n",
            "Epoch 102 - Step: 1200/1214 - Average Loss for Epoch: 0.0010697871084024277\n",
            "Epoch 102/120 Done, Train Loss: 0.00107797047112429, Train Accuracy: 0.7448517298187809\n",
            "Time Elapsed for Epoch: 5.263741240999934 seconds\n",
            "Validation Loss: 0.0013386480294933724 - Validation Accuracy: 0.7784653465346535\n",
            "Epoch 103 - Step: 1200/1214 - Average Loss for Epoch: 0.0010218859352911142\n",
            "Epoch 103/120 Done, Train Loss: 0.0010228593443467914, Train Accuracy: 0.7493822075782537\n",
            "Time Elapsed for Epoch: 5.664800195000225 seconds\n",
            "Validation Loss: 0.000928678250947576 - Validation Accuracy: 0.7912541254125413\n",
            "Epoch 104 - Step: 1200/1214 - Average Loss for Epoch: 0.0010090541176456707\n",
            "Epoch 104/120 Done, Train Loss: 0.0010101759199062543, Train Accuracy: 0.7527800658978583\n",
            "Time Elapsed for Epoch: 5.270630699999856 seconds\n",
            "Validation Loss: 0.0009206966714562369 - Validation Accuracy: 0.7768151815181518\n",
            "Epoch 105 - Step: 1200/1214 - Average Loss for Epoch: 0.0013303721132069768\n",
            "Epoch 105/120 Done, Train Loss: 0.0013454178673875633, Train Accuracy: 0.7239497528830313\n",
            "Time Elapsed for Epoch: 5.700560937999853 seconds\n",
            "Validation Loss: 0.0014454006348195235 - Validation Accuracy: 0.715552805280528\n",
            "Epoch 106 - Step: 1200/1214 - Average Loss for Epoch: 0.0011069638373313259\n",
            "Epoch 106/120 Done, Train Loss: 0.0011090389395158457, Train Accuracy: 0.7482495881383855\n",
            "Time Elapsed for Epoch: 5.288937469999837 seconds\n",
            "Validation Loss: 0.0009988723583290854 - Validation Accuracy: 0.7716584158415841\n",
            "Epoch 107 - Step: 1200/1214 - Average Loss for Epoch: 0.0011198708579286177\n",
            "Epoch 107/120 Done, Train Loss: 0.0011190920934838929, Train Accuracy: 0.7457269357495881\n",
            "Time Elapsed for Epoch: 5.7209481280001455 seconds\n",
            "Validation Loss: 0.0012746461157179085 - Validation Accuracy: 0.7295792079207921\n",
            "Epoch 108 - Step: 1200/1214 - Average Loss for Epoch: 0.0009247179316601735\n",
            "Epoch 108/120 Done, Train Loss: 0.0009352222219646254, Train Accuracy: 0.7625102965403624\n",
            "Time Elapsed for Epoch: 5.358807500000239 seconds\n",
            "Validation Loss: 0.0013366675080436438 - Validation Accuracy: 0.7561881188118812\n",
            "Epoch 109 - Step: 1200/1214 - Average Loss for Epoch: 0.0010106735917058056\n",
            "Epoch 109/120 Done, Train Loss: 0.0010047514292929238, Train Accuracy: 0.7566412685337727\n",
            "Time Elapsed for Epoch: 5.79712708299985 seconds\n",
            "Validation Loss: 0.000945056729010908 - Validation Accuracy: 0.8023927392739274\n",
            "Epoch 110 - Step: 1200/1214 - Average Loss for Epoch: 0.0009561647341615753\n",
            "Epoch 110/120 Done, Train Loss: 0.000950482314568273, Train Accuracy: 0.7612232289950577\n",
            "Time Elapsed for Epoch: 5.310055536000164 seconds\n",
            "Validation Loss: 0.0008952543371784072 - Validation Accuracy: 0.803424092409241\n",
            "Epoch 111 - Step: 1200/1214 - Average Loss for Epoch: 0.000927327286678216\n",
            "Epoch 111/120 Done, Train Loss: 0.0009233317789153449, Train Accuracy: 0.7598846787479407\n",
            "Time Elapsed for Epoch: 5.661286284000198 seconds\n",
            "Validation Loss: 0.0008263422485217936 - Validation Accuracy: 0.8087871287128713\n",
            "Epoch 112 - Step: 1200/1214 - Average Loss for Epoch: 0.0010320817578879844\n",
            "Epoch 112/120 Done, Train Loss: 0.001027112440575782, Train Accuracy: 0.7594728171334432\n",
            "Time Elapsed for Epoch: 5.3006429080001 seconds\n",
            "Validation Loss: 0.0008283878926617299 - Validation Accuracy: 0.8023927392739274\n",
            "Epoch 113 - Step: 1200/1214 - Average Loss for Epoch: 0.0009051946636585247\n",
            "Epoch 113/120 Done, Train Loss: 0.000908582771962771, Train Accuracy: 0.7700782537067545\n",
            "Time Elapsed for Epoch: 5.67031865700028 seconds\n",
            "Validation Loss: 0.0008072953899533153 - Validation Accuracy: 0.7017326732673267\n",
            "Epoch 114 - Step: 1200/1214 - Average Loss for Epoch: 0.0009735805768893139\n",
            "Epoch 114/120 Done, Train Loss: 0.0009747709195243496, Train Accuracy: 0.7578253706754531\n",
            "Time Elapsed for Epoch: 5.389197320000221 seconds\n",
            "Validation Loss: 0.0010994504313557116 - Validation Accuracy: 0.7456683168316832\n",
            "Epoch 115 - Step: 1200/1214 - Average Loss for Epoch: 0.0008956522810088548\n",
            "Epoch 115/120 Done, Train Loss: 0.0009004129682897891, Train Accuracy: 0.7693060131795717\n",
            "Time Elapsed for Epoch: 5.705479425999783 seconds\n",
            "Validation Loss: 0.001059010388789139 - Validation Accuracy: 0.7578382838283828\n",
            "Epoch 116 - Step: 1200/1214 - Average Loss for Epoch: 0.0008900905584414431\n",
            "Epoch 116/120 Done, Train Loss: 0.0008967253861451063, Train Accuracy: 0.7737850082372323\n",
            "Time Elapsed for Epoch: 5.3528386309999405 seconds\n",
            "Validation Loss: 0.0018561018420795974 - Validation Accuracy: 0.6829620462046204\n",
            "Epoch 117 - Step: 1200/1214 - Average Loss for Epoch: 0.001168482316503893\n",
            "Epoch 117/120 Done, Train Loss: 0.001167357847429877, Train Accuracy: 0.7354818780889621\n",
            "Time Elapsed for Epoch: 5.726781023000058 seconds\n",
            "Validation Loss: 0.001129760258318549 - Validation Accuracy: 0.7481435643564357\n",
            "Epoch 118 - Step: 1200/1214 - Average Loss for Epoch: 0.0008555036630059476\n",
            "Epoch 118/120 Done, Train Loss: 0.0008614306481301177, Train Accuracy: 0.7741968698517299\n",
            "Time Elapsed for Epoch: 5.330656687000101 seconds\n",
            "Validation Loss: 0.001277026758213618 - Validation Accuracy: 0.7188531353135313\n",
            "Epoch 119 - Step: 1200/1214 - Average Loss for Epoch: 0.0008405033169916957\n",
            "Epoch 119/120 Done, Train Loss: 0.0008409451509090042, Train Accuracy: 0.769666392092257\n",
            "Time Elapsed for Epoch: 5.772437571999944 seconds\n",
            "Validation Loss: 0.0008069470630637477 - Validation Accuracy: 0.8046617161716172\n",
            "Epoch 120 - Step: 1200/1214 - Average Loss for Epoch: 0.0008858503358230034\n",
            "Epoch 120/120 Done, Train Loss: 0.0008816599190067132, Train Accuracy: 0.7707990115321252\n",
            "Time Elapsed for Epoch: 5.380119806000039 seconds\n",
            "Validation Loss: 0.0007563208612559975 - Validation Accuracy: 0.8106435643564357\n"
          ]
        },
        {
          "output_type": "display_data",
          "data": {
            "text/plain": [
              "<Figure size 1080x864 with 1 Axes>"
            ],
            "image/png": "[encoded data removed]"
          },
          "metadata": {
            "needs_background": "light"
          }
        },
        {
          "output_type": "display_data",
          "data": {
            "text/plain": [
              "<Figure size 1080x864 with 1 Axes>"
            ],
            "image/png": "[encoded data removed]"
          },
          "metadata": {
            "needs_background": "light"
          }
        },
        {
          "output_type": "stream",
          "name": "stdout",
          "text": [
            "Total Training Time: 0 seconds\n"
          ]
        }
      ]
    },
    {
      "cell_type": "code",
      "source": [
        "torch.save(lstm_model.state_dict(), \"/content/model/lstm_model.pt\")  # Save model to Model folder"
      ],
      "metadata": {
        "id": "nuHohf7SuAVY"
      },
      "execution_count": 75,
      "outputs": []
    },
    {
      "cell_type": "code",
      "source": [
        "torch.save(lstm_model.state_dict(), '/content/model/lstm_model.pt')\n",
        "# Save the model architecture and other necessary information\n",
        "model_info = {'input_dim': input_dim,'hidden_dim': hidden_dim,'output_dim': output_dim,'n_layers': n_layers,}\n",
        "with open('generation_model_de.json', 'w') as f:\n",
        "    json.dump(model_info, f)"
      ],
      "metadata": {
        "id": "cQ8m9UEBtG3H"
      },
      "execution_count": 89,
      "outputs": []
    },
    {
      "cell_type": "code",
      "source": [
        "import torch\n",
        "import h5py\n",
        "\n",
        "# Save the model weights in Keras format\n",
        "model_weights = lstm_model.state_dict()\n",
        "with h5py.File('generation_model_weights_de.h5', 'w') as f:\n",
        "    for key in model_weights:\n",
        "        f.create_dataset(key, data=model_weights[key].numpy())\n"
      ],
      "metadata": {
        "id": "eVZfdPqEDG9N"
      },
      "execution_count": null,
      "outputs": []
    },
    {
      "cell_type": "code",
      "source": [
        "hidden_dim = 256\n",
        "input_dim = 4\n",
        "output_dim = 1\n",
        "n_layers = 2\n",
        "lstm_model = LSTMNet(input_dim, hidden_dim, output_dim, n_layers)\n",
        "lstm_model.load_state_dict(torch.load(\"/content/model/lstm_model.pt\"))"
      ],
      "metadata": {
        "colab": {
          "base_uri": "https://localhost:8080/"
        },
        "id": "JkId4ExnuGNZ",
        "outputId": "fb87df60-59d5-4b7a-f0b1-b767317307d5"
      },
      "execution_count": 76,
      "outputs": [
        {
          "output_type": "execute_result",
          "data": {
            "text/plain": [
              "<All keys matched successfully>"
            ]
          },
          "metadata": {},
          "execution_count": 76
        }
      ]
    },
    {
      "cell_type": "code",
      "source": [
        "# Move the model to the appropriate device\n",
        "lstm_model.to(device)"
      ],
      "metadata": {
        "colab": {
          "base_uri": "https://localhost:8080/"
        },
        "id": "-yw5bmdruNWo",
        "outputId": "f071b5bd-1ff9-4c13-cbca-66132d7a417f"
      },
      "execution_count": 77,
      "outputs": [
        {
          "output_type": "execute_result",
          "data": {
            "text/plain": [
              "LSTMNet(\n",
              "  (lstm): LSTM(4, 256, num_layers=2, batch_first=True, dropout=0.2)\n",
              "  (fc): Linear(in_features=256, out_features=1, bias=True)\n",
              "  (relu): ReLU()\n",
              ")"
            ]
          },
          "metadata": {},
          "execution_count": 77
        }
      ]
    },
    {
      "cell_type": "markdown",
      "source": [
        "# Evaluation"
      ],
      "metadata": {
        "id": "7W0MZsqXuWqQ"
      }
    },
    {
      "cell_type": "code",
      "source": [
        "def sMAPE(outputs, targets):\n",
        "    sMAPE = (100/ len(targets) * np.sum(np.abs(outputs - targets) / (np.abs(outputs + targets)) / 2))\n",
        "    return sMAPE"
      ],
      "metadata": {
        "id": "lfLW8pGQuPq3"
      },
      "execution_count": 78,
      "outputs": []
    },
    {
      "cell_type": "code",
      "source": [
        "def mean_absolute_error(targets, outputs):\n",
        "    targets, outputs = np.array(targets), np.array(outputs)\n",
        "    MAE = np.mean(np.abs(outputs - targets))\n",
        "    return MAE"
      ],
      "metadata": {
        "id": "x8fMMnD4uSS4"
      },
      "execution_count": 79,
      "outputs": []
    },
    {
      "cell_type": "code",
      "source": [
        "def mean_absolute_percentage_error(targets, outputs): \n",
        "    targets, outputs = np.array(targets), np.array(outputs)\n",
        "    MAPE = np.mean(np.abs((targets - outputs) / targets)) * 100\n",
        "    return MAPE"
      ],
      "metadata": {
        "id": "L4tqM7cTuVNQ"
      },
      "execution_count": 80,
      "outputs": []
    },
    {
      "cell_type": "code",
      "source": [
        "def rmse_percentage(targets, outputs):\n",
        "    targets, outputs = np.array(targets), np.array(outputs)\n",
        "    rmse = np.sqrt(np.mean((targets - outputs)**2))\n",
        "    return (rmse/np.mean(targets)) * 100"
      ],
      "metadata": {
        "id": "ntLSfHsMwGbt"
      },
      "execution_count": 81,
      "outputs": []
    },
    {
      "cell_type": "code",
      "source": [
        "def evaluate(model, test_x, test_y, label_scalers):\n",
        "    model.eval()\n",
        "    outputs = []\n",
        "    targets = []\n",
        "    start_time = time.process_time()\n",
        "    # get data of test data\n",
        "    for file in test_x.keys():\n",
        "        inputs = torch.from_numpy(np.array(test_x[file]))\n",
        "        labels = torch.from_numpy(np.array(test_y[file]))\n",
        "\n",
        "        h = model.init_hidden(inputs.shape[0])\n",
        "\n",
        "        # predict outputs\n",
        "        with torch.no_grad():\n",
        "            out, h = model(inputs.to(device).float(), h)\n",
        "\n",
        "        outputs.append(\n",
        "            label_scalers[file]\n",
        "            .inverse_transform(out.cpu().detach().numpy())\n",
        "            .reshape(-1)\n",
        "        )\n",
        "\n",
        "        targets.append(\n",
        "            label_scalers[file].inverse_transform(labels.numpy()).reshape(-1)\n",
        "        )\n",
        "\n",
        "    # Merge all files\n",
        "    concatenated_outputs = np.concatenate(outputs)\n",
        "    concatenated_targets = np.concatenate(targets)\n",
        "\n",
        "    print(f\"Evaluation Time: {time.process_time()-start_time}\")\n",
        "    print(f\"sMAPE: {round(sMAPE(concatenated_outputs, concatenated_targets), 3)}%\")\n",
        "    print(f\"MAPE: {round(mean_absolute_percentage_error(concatenated_outputs, concatenated_targets), 3)}%\")\n",
        "    print(f\"MAE: {round(mean_absolute_error(concatenated_outputs, concatenated_targets), 2)}\")\n",
        "    print(f\"RMSE: {round(rmse_percentage(concatenated_outputs, concatenated_targets), 2)}%\")\n",
        "    # list of of targets/outputs for each state\n",
        "    return outputs, targets, sMAPE"
      ],
      "metadata": {
        "id": "sB7XTN0cuaUh"
      },
      "execution_count": 82,
      "outputs": []
    },
    {
      "cell_type": "code",
      "source": [
        "lstm_outputs, targets, lstm_sMAPE = evaluate(lstm_model, test_x, test_y, label_scalers)"
      ],
      "metadata": {
        "colab": {
          "base_uri": "https://localhost:8080/"
        },
        "id": "C_q7JaRFuc4H",
        "outputId": "abfaa156-4891-4efa-dffb-f654cb3cbdfd"
      },
      "execution_count": 83,
      "outputs": [
        {
          "output_type": "stream",
          "name": "stdout",
          "text": [
            "Evaluation Time: 0.04961400999991383\n",
            "sMAPE: 1.11%\n",
            "MAPE: 4.848%\n",
            "MAE: 20642.13\n",
            "RMSE: 9.09%\n"
          ]
        }
      ]
    },
    {
      "cell_type": "code",
      "source": [
        "len(lstm_outputs)  # list of predicted output file "
      ],
      "metadata": {
        "colab": {
          "base_uri": "https://localhost:8080/"
        },
        "id": "sOHdrofjuffH",
        "outputId": "cf2cd5d6-a688-49f9-ac19-6a306a60bae8"
      },
      "execution_count": 84,
      "outputs": [
        {
          "output_type": "execute_result",
          "data": {
            "text/plain": [
              "1"
            ]
          },
          "metadata": {},
          "execution_count": 84
        }
      ]
    },
    {
      "cell_type": "code",
      "source": [
        "states_list = list(test_x.keys())"
      ],
      "metadata": {
        "id": "puj4gc9UulWQ"
      },
      "execution_count": 85,
      "outputs": []
    },
    {
      "cell_type": "markdown",
      "source": [
        "# Visualize results"
      ],
      "metadata": {
        "id": "qhxbC0Jou_mf"
      }
    },
    {
      "cell_type": "code",
      "source": [
        "# Plot the actual vs predicted values\n",
        "plt.figure(figsize=(20, 15))\n",
        "plt.subplot(2, 2, 1)\n",
        "plt.plot(lstm_outputs[0][-100:], \"-o\", color=\"r\", label=\"LSTM Predictions\", markersize=2)\n",
        "plt.plot(targets[0][-100:], color=\"b\", label=\"Actual Value\")\n",
        "plt.ylabel(\"Energy Generation (MW)\")\n",
        "plt.title(f\"Energy Generation Forecasting Comparion\")\n",
        "plt.legend()"
      ],
      "metadata": {
        "colab": {
          "base_uri": "https://localhost:8080/",
          "height": 452
        },
        "id": "uAiW6NdJupHp",
        "outputId": "7b274f26-5d9c-4aec-c862-714235ada9ef"
      },
      "execution_count": 86,
      "outputs": [
        {
          "output_type": "execute_result",
          "data": {
            "text/plain": [
              "<matplotlib.legend.Legend at 0x7fbdf28ba5b0>"
            ]
          },
          "metadata": {},
          "execution_count": 86
        },
        {
          "output_type": "display_data",
          "data": {
            "text/plain": [
              "<Figure size 1440x1080 with 1 Axes>"
            ],
            "image/png": "[encoded data removed]"
          },
          "metadata": {
            "needs_background": "light"
          }
        }
      ]
    }
  ]
}